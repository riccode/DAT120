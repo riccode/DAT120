{
 "cells": [
  {
   "attachments": {},
   "cell_type": "markdown",
   "metadata": {},
   "source": [
    "Captsone Mini Project\n",
    "Author: Allan Brett\n",
    "Date: Feb, 2023\n",
    "----------------\n",
    "\n",
    "Code Description\n",
    "\n",
    "For my project I decided the sloth dataset from kaggle (https://www.kaggle.com/datasets/bafbc3981680a36353231bf20f9e4d222d58844688c984a086f4fea8b7455402). I really like sloths, and altough the data is not particularily complicated, I felt I had to use it.\n",
    "\n",
    "Sloth data\n",
    "----------------\n",
    "I have split my data analysis into two few different steps. First I classify sloth species based on physical characteristics. This turns out to be quite straightforward as the species can be seperated quite easily by tail length. Next I attempt to classify the sub-species of sloths based on their physical characteristics. For the \"three-toed\" sloths, the very imbalanced nature of the dataset lead to a more difficult evaluation/interpretation of the models. "
   ]
  },
  {
   "attachments": {},
   "cell_type": "markdown",
   "metadata": {},
   "source": [
    "Load in and explore dataset"
   ]
  },
  {
   "cell_type": "code",
   "execution_count": 1,
   "metadata": {},
   "outputs": [],
   "source": [
    "import pandas as pd\n",
    "import numpy as np\n",
    "\n",
    "sloths = pd.read_csv('sloth_data.csv', encoding='utf-8')"
   ]
  },
  {
   "attachments": {},
   "cell_type": "markdown",
   "metadata": {},
   "source": [
    "Investigate dataset"
   ]
  },
  {
   "cell_type": "code",
   "execution_count": 2,
   "metadata": {},
   "outputs": [
    {
     "data": {
      "text/html": [
       "<div>\n",
       "<style scoped>\n",
       "    .dataframe tbody tr th:only-of-type {\n",
       "        vertical-align: middle;\n",
       "    }\n",
       "\n",
       "    .dataframe tbody tr th {\n",
       "        vertical-align: top;\n",
       "    }\n",
       "\n",
       "    .dataframe thead th {\n",
       "        text-align: right;\n",
       "    }\n",
       "</style>\n",
       "<table border=\"1\" class=\"dataframe\">\n",
       "  <thead>\n",
       "    <tr style=\"text-align: right;\">\n",
       "      <th></th>\n",
       "      <th>Unnamed: 0</th>\n",
       "      <th>claw_length_cm</th>\n",
       "      <th>endangered</th>\n",
       "      <th>size_cm</th>\n",
       "      <th>specie</th>\n",
       "      <th>sub_specie</th>\n",
       "      <th>tail_length_cm</th>\n",
       "      <th>weight_kg</th>\n",
       "    </tr>\n",
       "  </thead>\n",
       "  <tbody>\n",
       "    <tr>\n",
       "      <th>0</th>\n",
       "      <td>0</td>\n",
       "      <td>6.825</td>\n",
       "      <td>critically_endangered</td>\n",
       "      <td>52.004</td>\n",
       "      <td>three_toed</td>\n",
       "      <td>Pygmy three-toed sloth</td>\n",
       "      <td>4.448</td>\n",
       "      <td>3.570</td>\n",
       "    </tr>\n",
       "    <tr>\n",
       "      <th>1</th>\n",
       "      <td>1</td>\n",
       "      <td>8.260</td>\n",
       "      <td>critically_endangered</td>\n",
       "      <td>50.082</td>\n",
       "      <td>three_toed</td>\n",
       "      <td>Pygmy three-toed sloth</td>\n",
       "      <td>6.286</td>\n",
       "      <td>2.844</td>\n",
       "    </tr>\n",
       "    <tr>\n",
       "      <th>2</th>\n",
       "      <td>2</td>\n",
       "      <td>8.662</td>\n",
       "      <td>critically_endangered</td>\n",
       "      <td>51.498</td>\n",
       "      <td>three_toed</td>\n",
       "      <td>Pygmy three-toed sloth</td>\n",
       "      <td>4.551</td>\n",
       "      <td>1.259</td>\n",
       "    </tr>\n",
       "    <tr>\n",
       "      <th>3</th>\n",
       "      <td>3</td>\n",
       "      <td>8.467</td>\n",
       "      <td>critically_endangered</td>\n",
       "      <td>50.122</td>\n",
       "      <td>three_toed</td>\n",
       "      <td>Pygmy three-toed sloth</td>\n",
       "      <td>6.983</td>\n",
       "      <td>2.392</td>\n",
       "    </tr>\n",
       "    <tr>\n",
       "      <th>4</th>\n",
       "      <td>4</td>\n",
       "      <td>7.104</td>\n",
       "      <td>critically_endangered</td>\n",
       "      <td>51.364</td>\n",
       "      <td>three_toed</td>\n",
       "      <td>Pygmy three-toed sloth</td>\n",
       "      <td>5.411</td>\n",
       "      <td>3.163</td>\n",
       "    </tr>\n",
       "    <tr>\n",
       "      <th>5</th>\n",
       "      <td>5</td>\n",
       "      <td>7.268</td>\n",
       "      <td>critically_endangered</td>\n",
       "      <td>50.540</td>\n",
       "      <td>three_toed</td>\n",
       "      <td>Pygmy three-toed sloth</td>\n",
       "      <td>3.672</td>\n",
       "      <td>3.305</td>\n",
       "    </tr>\n",
       "    <tr>\n",
       "      <th>6</th>\n",
       "      <td>6</td>\n",
       "      <td>7.195</td>\n",
       "      <td>critically_endangered</td>\n",
       "      <td>49.662</td>\n",
       "      <td>three_toed</td>\n",
       "      <td>Pygmy three-toed sloth</td>\n",
       "      <td>4.179</td>\n",
       "      <td>2.854</td>\n",
       "    </tr>\n",
       "    <tr>\n",
       "      <th>7</th>\n",
       "      <td>7</td>\n",
       "      <td>7.455</td>\n",
       "      <td>critically_endangered</td>\n",
       "      <td>50.990</td>\n",
       "      <td>three_toed</td>\n",
       "      <td>Pygmy three-toed sloth</td>\n",
       "      <td>3.418</td>\n",
       "      <td>3.861</td>\n",
       "    </tr>\n",
       "    <tr>\n",
       "      <th>8</th>\n",
       "      <td>8</td>\n",
       "      <td>6.773</td>\n",
       "      <td>critically_endangered</td>\n",
       "      <td>48.389</td>\n",
       "      <td>three_toed</td>\n",
       "      <td>Pygmy three-toed sloth</td>\n",
       "      <td>6.601</td>\n",
       "      <td>4.492</td>\n",
       "    </tr>\n",
       "    <tr>\n",
       "      <th>9</th>\n",
       "      <td>9</td>\n",
       "      <td>8.160</td>\n",
       "      <td>critically_endangered</td>\n",
       "      <td>49.495</td>\n",
       "      <td>three_toed</td>\n",
       "      <td>Pygmy three-toed sloth</td>\n",
       "      <td>4.058</td>\n",
       "      <td>0.964</td>\n",
       "    </tr>\n",
       "  </tbody>\n",
       "</table>\n",
       "</div>"
      ],
      "text/plain": [
       "   Unnamed: 0  claw_length_cm             endangered  size_cm      specie  \\\n",
       "0           0           6.825  critically_endangered   52.004  three_toed   \n",
       "1           1           8.260  critically_endangered   50.082  three_toed   \n",
       "2           2           8.662  critically_endangered   51.498  three_toed   \n",
       "3           3           8.467  critically_endangered   50.122  three_toed   \n",
       "4           4           7.104  critically_endangered   51.364  three_toed   \n",
       "5           5           7.268  critically_endangered   50.540  three_toed   \n",
       "6           6           7.195  critically_endangered   49.662  three_toed   \n",
       "7           7           7.455  critically_endangered   50.990  three_toed   \n",
       "8           8           6.773  critically_endangered   48.389  three_toed   \n",
       "9           9           8.160  critically_endangered   49.495  three_toed   \n",
       "\n",
       "               sub_specie  tail_length_cm  weight_kg  \n",
       "0  Pygmy three-toed sloth           4.448      3.570  \n",
       "1  Pygmy three-toed sloth           6.286      2.844  \n",
       "2  Pygmy three-toed sloth           4.551      1.259  \n",
       "3  Pygmy three-toed sloth           6.983      2.392  \n",
       "4  Pygmy three-toed sloth           5.411      3.163  \n",
       "5  Pygmy three-toed sloth           3.672      3.305  \n",
       "6  Pygmy three-toed sloth           4.179      2.854  \n",
       "7  Pygmy three-toed sloth           3.418      3.861  \n",
       "8  Pygmy three-toed sloth           6.601      4.492  \n",
       "9  Pygmy three-toed sloth           4.058      0.964  "
      ]
     },
     "execution_count": 2,
     "metadata": {},
     "output_type": "execute_result"
    }
   ],
   "source": [
    "sloths.head(10)"
   ]
  },
  {
   "cell_type": "code",
   "execution_count": 3,
   "metadata": {},
   "outputs": [
    {
     "name": "stdout",
     "output_type": "stream",
     "text": [
      "<class 'pandas.core.frame.DataFrame'>\n",
      "RangeIndex: 5000 entries, 0 to 4999\n",
      "Data columns (total 8 columns):\n",
      " #   Column          Non-Null Count  Dtype  \n",
      "---  ------          --------------  -----  \n",
      " 0   Unnamed: 0      5000 non-null   int64  \n",
      " 1   claw_length_cm  5000 non-null   float64\n",
      " 2   endangered      5000 non-null   object \n",
      " 3   size_cm         5000 non-null   float64\n",
      " 4   specie          5000 non-null   object \n",
      " 5   sub_specie      5000 non-null   object \n",
      " 6   tail_length_cm  5000 non-null   float64\n",
      " 7   weight_kg       5000 non-null   float64\n",
      "dtypes: float64(4), int64(1), object(3)\n",
      "memory usage: 312.6+ KB\n"
     ]
    }
   ],
   "source": [
    "sloths.info()"
   ]
  },
  {
   "cell_type": "code",
   "execution_count": 4,
   "metadata": {},
   "outputs": [
    {
     "data": {
      "text/plain": [
       "Unnamed: 0        0\n",
       "claw_length_cm    0\n",
       "endangered        0\n",
       "size_cm           0\n",
       "specie            0\n",
       "sub_specie        0\n",
       "tail_length_cm    0\n",
       "weight_kg         0\n",
       "dtype: int64"
      ]
     },
     "execution_count": 4,
     "metadata": {},
     "output_type": "execute_result"
    }
   ],
   "source": [
    "sloths.isnull().sum()"
   ]
  },
  {
   "attachments": {},
   "cell_type": "markdown",
   "metadata": {},
   "source": [
    "The dataset contains no missing values and both can be classified using numeric data. Therefore, no inputation or data mapping required. Next determine features. Specie and sub_specie are the targets, so drop them. Then drop the \"unnamed\" and \"endagered\" columns since we will focus on classifying the sloths by physical characteristics."
   ]
  },
  {
   "cell_type": "code",
   "execution_count": 5,
   "metadata": {},
   "outputs": [],
   "source": [
    "\n",
    "to_drop_sloth = ['Unnamed: 0','endangered','specie','sub_specie']\n",
    "sloths_X = sloths.drop(to_drop_sloth,axis=1)\n",
    "sloths_y = sloths['specie']\n",
    "sloths_sub_y = sloths['sub_specie']"
   ]
  },
  {
   "attachments": {},
   "cell_type": "markdown",
   "metadata": {},
   "source": [
    "View distribution of data to determine if data is balanced"
   ]
  },
  {
   "cell_type": "code",
   "execution_count": 6,
   "metadata": {},
   "outputs": [
    {
     "data": {
      "text/plain": [
       "<AxesSubplot:>"
      ]
     },
     "execution_count": 6,
     "metadata": {},
     "output_type": "execute_result"
    },
    {
     "data": {
      "image/png": "[encoded data removed]",
      "text/plain": [
       "<Figure size 640x480 with 1 Axes>"
      ]
     },
     "metadata": {},
     "output_type": "display_data"
    }
   ],
   "source": [
    "sloths['specie'].value_counts().plot.bar()"
   ]
  },
  {
   "attachments": {},
   "cell_type": "markdown",
   "metadata": {},
   "source": [
    "The above plot shows that the data is balanced with respect to the \"specie\" column. "
   ]
  },
  {
   "attachments": {},
   "cell_type": "markdown",
   "metadata": {},
   "source": [
    "Next, get a sense of outliers in the data using boxplot"
   ]
  },
  {
   "cell_type": "code",
   "execution_count": 7,
   "metadata": {},
   "outputs": [
    {
     "data": {
      "text/plain": [
       "<AxesSubplot:xlabel='specie', ylabel='weight_kg'>"
      ]
     },
     "execution_count": 7,
     "metadata": {},
     "output_type": "execute_result"
    },
    {
     "data": {
      "image/png": "[encoded data removed]",
      "text/plain": [
       "<Figure size 2500x1200 with 4 Axes>"
      ]
     },
     "metadata": {},
     "output_type": "display_data"
    }
   ],
   "source": [
    "import seaborn as sns\n",
    "import matplotlib.pyplot as plt\n",
    "%matplotlib inline\n",
    "\n",
    "fig, ((ax1, ax2, ax3, ax4)) = plt.subplots(nrows=1, ncols=4, figsize = (25, 12))\n",
    "sns.boxplot(ax=ax1, x = 'specie', y = 'claw_length_cm', hue = 'specie', data = sloths)\n",
    "sns.boxplot(ax=ax2, x = 'specie', y = 'size_cm', hue = 'specie', data = sloths)\n",
    "sns.boxplot(ax=ax3, x = 'specie', y = 'tail_length_cm', hue = 'specie', data = sloths)\n",
    "sns.boxplot(ax=ax4, x = 'specie', y = 'weight_kg', hue = 'specie', data = sloths)"
   ]
  },
  {
   "attachments": {},
   "cell_type": "markdown",
   "metadata": {},
   "source": [
    "There does appear to be quite a few outliers in the data, therefore data scaling is recommended."
   ]
  },
  {
   "attachments": {},
   "cell_type": "markdown",
   "metadata": {},
   "source": [
    "Also explore the correlations between the data fields"
   ]
  },
  {
   "cell_type": "code",
   "execution_count": 8,
   "metadata": {},
   "outputs": [
    {
     "data": {
      "text/plain": [
       "<AxesSubplot:>"
      ]
     },
     "execution_count": 8,
     "metadata": {},
     "output_type": "execute_result"
    },
    {
     "data": {
      "image/png": "[encoded data removed]",
      "text/plain": [
       "<Figure size 1000x800 with 2 Axes>"
      ]
     },
     "metadata": {},
     "output_type": "display_data"
    }
   ],
   "source": [
    "corr = sloths_X.corr()\n",
    "plt.figure(figsize = (10, 8))\n",
    "sns.heatmap(corr, annot = True)"
   ]
  },
  {
   "attachments": {},
   "cell_type": "markdown",
   "metadata": {},
   "source": [
    "No variables are particularily correlated. Highest positive correlation found between size and weight which is an expected relationship. However, no correlation is high enough to warrant dropping any features. "
   ]
  },
  {
   "attachments": {},
   "cell_type": "markdown",
   "metadata": {},
   "source": [
    "Now train a simple decision tree model with hyper-parameter tuning on depth"
   ]
  },
  {
   "attachments": {},
   "cell_type": "markdown",
   "metadata": {},
   "source": [
    "Train/Test/Split"
   ]
  },
  {
   "cell_type": "code",
   "execution_count": 9,
   "metadata": {},
   "outputs": [],
   "source": [
    "import matplotlib.pyplot as plt\n",
    "\n",
    "from sklearn.datasets import make_blobs\n",
    "from sklearn.tree import DecisionTreeClassifier\n",
    "from sklearn.model_selection import train_test_split\n",
    "from sklearn.metrics import accuracy_score\n",
    "from sklearn.metrics import roc_auc_score\n",
    "\n",
    "sloths_X_train, sloths_X_test, sloths_y_train, sloths_y_test = train_test_split(sloths_X, sloths_y, shuffle=True, test_size=0.33, random_state=42)"
   ]
  },
  {
   "attachments": {},
   "cell_type": "markdown",
   "metadata": {},
   "source": [
    "Scale the data"
   ]
  },
  {
   "cell_type": "code",
   "execution_count": 10,
   "metadata": {},
   "outputs": [],
   "source": [
    "from sklearn.preprocessing import StandardScaler\n",
    "from sklearn.preprocessing import MinMaxScaler \n",
    "\n",
    "#use a dummy variable to easily set which scaler is used and investigate any differences\n",
    "\n",
    "which_scaler = 2\n",
    "\n",
    "if which_scaler == 1:\n",
    "    sloths_X_stdscale_train = sloths_X_train\n",
    "    sloths_X_stdscale_test = sloths_X_test\n",
    "elif which_scaler == 2 or which_scaler == 3: \n",
    "\n",
    "    if which_scaler == 2:\n",
    "        scaler = StandardScaler()\n",
    "    elif which_scaler == 3:    \n",
    "        scaler = MinMaxScaler()\n",
    "    sloths_X_stdscale_train = scaler.fit_transform(sloths_X_train)\n",
    "    sloths_X_stdscale_test = scaler.transform(sloths_X_test)"
   ]
  },
  {
   "attachments": {},
   "cell_type": "markdown",
   "metadata": {},
   "source": [
    "Surprisingly scaling does not increase the accuracy of the models. For example accuracy with/witout scaling with the Decision Tree classifier:\n",
    "    \n",
    "No scaling (accuracy = 0.9727), StandardScaler (accuracy =  0.9727), MinMax scaler (accuracy =  0.9727)"
   ]
  },
  {
   "attachments": {},
   "cell_type": "markdown",
   "metadata": {},
   "source": [
    "Decision Tree Classifier"
   ]
  },
  {
   "attachments": {},
   "cell_type": "markdown",
   "metadata": {},
   "source": [
    "Hyper Parameter Turning"
   ]
  },
  {
   "cell_type": "code",
   "execution_count": 11,
   "metadata": {},
   "outputs": [
    {
     "data": {
      "text/plain": [
       "[<matplotlib.lines.Line2D at 0x238274305e0>]"
      ]
     },
     "execution_count": 11,
     "metadata": {},
     "output_type": "execute_result"
    },
    {
     "data": {
      "image/png": "[encoded data removed]",
      "text/plain": [
       "<Figure size 640x480 with 1 Axes>"
      ]
     },
     "metadata": {},
     "output_type": "display_data"
    }
   ],
   "source": [
    "#Create model and determine accuracy - run a loop and graph\n",
    "import matplotlib.pyplot as plt\n",
    "\n",
    "accuracy = []\n",
    "depth = range(1,15)\n",
    "\n",
    "for i in range(1,15):\n",
    "\n",
    "    sloths_model = DecisionTreeClassifier(random_state = 42,  max_depth = i)\n",
    "\n",
    "    sloths_model.fit(sloths_X_stdscale_train, sloths_y_train)\n",
    "\n",
    "    sloths_y_pred = sloths_model.predict(sloths_X_stdscale_test)\n",
    "    accuracy.append(accuracy_score(sloths_y_test, sloths_y_pred))\n",
    "    \n",
    "plt.plot(depth, accuracy)"
   ]
  },
  {
   "attachments": {},
   "cell_type": "markdown",
   "metadata": {},
   "source": [
    "From the above plot we can see the ideal depth for decision tree is 4, so use for the model going forward"
   ]
  },
  {
   "cell_type": "code",
   "execution_count": 12,
   "metadata": {},
   "outputs": [
    {
     "name": "stdout",
     "output_type": "stream",
     "text": [
      "Accuracy Score: \n",
      " 0.9727272727272728\n",
      "Classification Report: \n",
      "               precision    recall  f1-score   support\n",
      "\n",
      "  three_toed       0.98      0.97      0.97       901\n",
      "    two_toed       0.97      0.97      0.97       749\n",
      "\n",
      "    accuracy                           0.97      1650\n",
      "   macro avg       0.97      0.97      0.97      1650\n",
      "weighted avg       0.97      0.97      0.97      1650\n",
      "\n"
     ]
    }
   ],
   "source": [
    "#create tuned model and output accuracy\n",
    "\n",
    "from sklearn.metrics import classification_report, confusion_matrix\n",
    "\n",
    "sloths_model = DecisionTreeClassifier(random_state = 42, max_depth = 4)\n",
    "sloths_model.fit(sloths_X_stdscale_train, sloths_y_train)\n",
    "sloths_y_pred = sloths_model.predict(sloths_X_stdscale_test)\n",
    "\n",
    "dt_accuracy = accuracy_score(sloths_y_test, sloths_y_pred)\n",
    "#print accuracy of model\n",
    "print('Accuracy Score: \\n', accuracy_score(sloths_y_test, sloths_y_pred))\n",
    "print('Classification Report: \\n', classification_report(sloths_y_test, sloths_y_pred))\n"
   ]
  },
  {
   "attachments": {},
   "cell_type": "markdown",
   "metadata": {},
   "source": [
    "Graph important features"
   ]
  },
  {
   "cell_type": "code",
   "execution_count": 13,
   "metadata": {},
   "outputs": [
    {
     "data": {
      "text/plain": [
       "<AxesSubplot:ylabel='feature'>"
      ]
     },
     "execution_count": 13,
     "metadata": {},
     "output_type": "execute_result"
    },
    {
     "data": {
      "image/png": "[encoded data removed]",
      "text/plain": [
       "<Figure size 640x480 with 1 Axes>"
      ]
     },
     "metadata": {},
     "output_type": "display_data"
    }
   ],
   "source": [
    "\n",
    "sloths_features = sloths_X.columns\n",
    "sloths_model.feature_importances_\n",
    "list(zip(sloths_features, sloths_model.feature_importances_))\n",
    "\n",
    "important_features = pd.DataFrame(list(zip(sloths_features, sloths_model.feature_importances_)), columns=['feature', 'importance'])\n",
    "important_features.set_index('feature', inplace=True)\n",
    "important_features.sort_values(by='importance').plot(kind='barh')"
   ]
  },
  {
   "attachments": {},
   "cell_type": "markdown",
   "metadata": {},
   "source": [
    "Interpretation\n",
    "\n",
    "This basic model turns out to be very robust with tail length being the most important feature distinguishing the species of sloths. When visualized this realationship is clear (see figure below)."
   ]
  },
  {
   "cell_type": "code",
   "execution_count": 14,
   "metadata": {},
   "outputs": [
    {
     "data": {
      "image/png": "[encoded data removed]",
      "text/plain": [
       "<Figure size 640x480 with 1 Axes>"
      ]
     },
     "metadata": {},
     "output_type": "display_data"
    }
   ],
   "source": [
    "#plot two most important features against eachother to view the classification\n",
    "\n",
    "two_toe = sloths.loc[(sloths[\"specie\"] == \"two_toed\"), [\"specie\", \"tail_length_cm\", \"size_cm\"]]\n",
    "three_toe = sloths.loc[(sloths[\"specie\"] == \"three_toed\"), [\"specie\", \"tail_length_cm\", \"size_cm\"]]\n",
    "\n",
    "two_toe_plt = plt.scatter(two_toe[\"tail_length_cm\"], two_toe[\"size_cm\"], facecolors='none', edgecolors='r')\n",
    "three_toe_plt =plt.scatter(three_toe[\"tail_length_cm\"], three_toe[\"size_cm\"], facecolors='none', edgecolors='b')\n",
    "\n",
    "plt.legend((two_toe_plt, three_toe_plt),\n",
    "           ('two toed sloths', 'three toed sloths'),\n",
    "           scatterpoints=1,\n",
    "           loc='lower left',\n",
    "           ncol=3,\n",
    "           fontsize=8)\n",
    "\n",
    "plt.title('Tail Length vs size of sloths')\n",
    "plt.xlabel('Tail Length (cm)')\n",
    "plt.ylabel('size_cm')\n",
    "plt.show()"
   ]
  },
  {
   "attachments": {},
   "cell_type": "markdown",
   "metadata": {},
   "source": [
    "What is apparent is that there is a clear division between the sub-species of three-toed sloths with respect to size. We will investigate this relationship in a later section. First we will investigate how two other models (random forest and gradient boosting classifier) perform for classification of sloth species with default hyper-parameters."
   ]
  },
  {
   "cell_type": "code",
   "execution_count": 15,
   "metadata": {},
   "outputs": [],
   "source": [
    "from sklearn.ensemble import RandomForestClassifier, GradientBoostingClassifier"
   ]
  },
  {
   "cell_type": "code",
   "execution_count": 16,
   "metadata": {},
   "outputs": [
    {
     "name": "stdout",
     "output_type": "stream",
     "text": [
      "Accuracy Score: \n",
      " 0.9775757575757575\n",
      "Classification Report: \n",
      "               precision    recall  f1-score   support\n",
      "\n",
      "  three_toed       0.98      0.98      0.98       901\n",
      "    two_toed       0.97      0.98      0.98       749\n",
      "\n",
      "    accuracy                           0.98      1650\n",
      "   macro avg       0.98      0.98      0.98      1650\n",
      "weighted avg       0.98      0.98      0.98      1650\n",
      "\n"
     ]
    }
   ],
   "source": [
    "rf_model = RandomForestClassifier(random_state = 42)\n",
    "rf_model.fit(sloths_X_stdscale_train, sloths_y_train)\n",
    "sloths_y_pred = rf_model.predict(sloths_X_stdscale_test)\n",
    "\n",
    "rf_accuracy = accuracy_score(sloths_y_test, sloths_y_pred)\n",
    "print('Accuracy Score: \\n', accuracy_score(sloths_y_test, sloths_y_pred))\n",
    "print('Classification Report: \\n', classification_report(sloths_y_test, sloths_y_pred))"
   ]
  },
  {
   "cell_type": "code",
   "execution_count": 17,
   "metadata": {},
   "outputs": [
    {
     "name": "stdout",
     "output_type": "stream",
     "text": [
      "Accuracy Score: \n",
      " 0.9787878787878788\n",
      "Classification Report: \n",
      "               precision    recall  f1-score   support\n",
      "\n",
      "  three_toed       0.99      0.97      0.98       901\n",
      "    two_toed       0.97      0.98      0.98       749\n",
      "\n",
      "    accuracy                           0.98      1650\n",
      "   macro avg       0.98      0.98      0.98      1650\n",
      "weighted avg       0.98      0.98      0.98      1650\n",
      "\n"
     ]
    }
   ],
   "source": [
    "gbc_model = GradientBoostingClassifier(random_state = 42)\n",
    "gbc_model.fit(sloths_X_stdscale_train, sloths_y_train)\n",
    "sloths_y_pred = gbc_model.predict(sloths_X_stdscale_test)\n",
    "\n",
    "gbc_accuracy = accuracy_score(sloths_y_test, sloths_y_pred)\n",
    "\n",
    "print('Accuracy Score: \\n', accuracy_score(sloths_y_test, sloths_y_pred))\n",
    "print('Classification Report: \\n', classification_report(sloths_y_test, sloths_y_pred))"
   ]
  },
  {
   "attachments": {},
   "cell_type": "markdown",
   "metadata": {},
   "source": [
    "Now let's compare the three model accuracies. "
   ]
  },
  {
   "cell_type": "code",
   "execution_count": 18,
   "metadata": {},
   "outputs": [
    {
     "data": {
      "application/vnd.plotly.v1+json": {
       "config": {
        "plotlyServerURL": "https://plot.ly"
       },
       "data": [
        {
         "alignmentgroup": "True",
         "hovertemplate": "Model Name=%{x}<br>Accuracy=%{y}<extra></extra>",
         "legendgroup": "",
         "marker": {
          "color": "#636efa",
          "pattern": {
           "shape": ""
          }
         },
         "name": "",
         "offsetgroup": "",
         "orientation": "v",
         "showlegend": false,
         "textposition": "auto",
         "type": "bar",
         "x": [
          "Decision Tree",
          "RandomForest",
          "Gradient Boosting Classifier"
         ],
         "xaxis": "x",
         "y": [
          0.9727272727272728,
          0.9775757575757575,
          0.9787878787878788
         ],
         "yaxis": "y"
        }
       ],
       "layout": {
        "barmode": "relative",
        "legend": {
         "tracegroupgap": 0
        },
        "template": {
         "data": {
          "bar": [
           {
            "error_x": {
             "color": "#2a3f5f"
            },
            "error_y": {
             "color": "#2a3f5f"
            },
            "marker": {
             "line": {
              "color": "#E5ECF6",
              "width": 0.5
             },
             "pattern": {
              "fillmode": "overlay",
              "size": 10,
              "solidity": 0.2
             }
            },
            "type": "bar"
           }
          ],
          "barpolar": [
           {
            "marker": {
             "line": {
              "color": "#E5ECF6",
              "width": 0.5
             },
             "pattern": {
              "fillmode": "overlay",
              "size": 10,
              "solidity": 0.2
             }
            },
            "type": "barpolar"
           }
          ],
          "carpet": [
           {
            "aaxis": {
             "endlinecolor": "#2a3f5f",
             "gridcolor": "white",
             "linecolor": "white",
             "minorgridcolor": "white",
             "startlinecolor": "#2a3f5f"
            },
            "baxis": {
             "endlinecolor": "#2a3f5f",
             "gridcolor": "white",
             "linecolor": "white",
             "minorgridcolor": "white",
             "startlinecolor": "#2a3f5f"
            },
            "type": "carpet"
           }
          ],
          "choropleth": [
           {
            "colorbar": {
             "outlinewidth": 0,
             "ticks": ""
            },
            "type": "choropleth"
           }
          ],
          "contour": [
           {
            "colorbar": {
             "outlinewidth": 0,
             "ticks": ""
            },
            "colorscale": [
             [
              0,
              "#0d0887"
             ],
             [
              0.1111111111111111,
              "#46039f"
             ],
             [
              0.2222222222222222,
              "#7201a8"
             ],
             [
              0.3333333333333333,
              "#9c179e"
             ],
             [
              0.4444444444444444,
              "#bd3786"
             ],
             [
              0.5555555555555556,
              "#d8576b"
             ],
             [
              0.6666666666666666,
              "#ed7953"
             ],
             [
              0.7777777777777778,
              "#fb9f3a"
             ],
             [
              0.8888888888888888,
              "#fdca26"
             ],
             [
              1,
              "#f0f921"
             ]
            ],
            "type": "contour"
           }
          ],
          "contourcarpet": [
           {
            "colorbar": {
             "outlinewidth": 0,
             "ticks": ""
            },
            "type": "contourcarpet"
           }
          ],
          "heatmap": [
           {
            "colorbar": {
             "outlinewidth": 0,
             "ticks": ""
            },
            "colorscale": [
             [
              0,
              "#0d0887"
             ],
             [
              0.1111111111111111,
              "#46039f"
             ],
             [
              0.2222222222222222,
              "#7201a8"
             ],
             [
              0.3333333333333333,
              "#9c179e"
             ],
             [
              0.4444444444444444,
              "#bd3786"
             ],
             [
              0.5555555555555556,
              "#d8576b"
             ],
             [
              0.6666666666666666,
              "#ed7953"
             ],
             [
              0.7777777777777778,
              "#fb9f3a"
             ],
             [
              0.8888888888888888,
              "#fdca26"
             ],
             [
              1,
              "#f0f921"
             ]
            ],
            "type": "heatmap"
           }
          ],
          "heatmapgl": [
           {
            "colorbar": {
             "outlinewidth": 0,
             "ticks": ""
            },
            "colorscale": [
             [
              0,
              "#0d0887"
             ],
             [
              0.1111111111111111,
              "#46039f"
             ],
             [
              0.2222222222222222,
              "#7201a8"
             ],
             [
              0.3333333333333333,
              "#9c179e"
             ],
             [
              0.4444444444444444,
              "#bd3786"
             ],
             [
              0.5555555555555556,
              "#d8576b"
             ],
             [
              0.6666666666666666,
              "#ed7953"
             ],
             [
              0.7777777777777778,
              "#fb9f3a"
             ],
             [
              0.8888888888888888,
              "#fdca26"
             ],
             [
              1,
              "#f0f921"
             ]
            ],
            "type": "heatmapgl"
           }
          ],
          "histogram": [
           {
            "marker": {
             "pattern": {
              "fillmode": "overlay",
              "size": 10,
              "solidity": 0.2
             }
            },
            "type": "histogram"
           }
          ],
          "histogram2d": [
           {
            "colorbar": {
             "outlinewidth": 0,
             "ticks": ""
            },
            "colorscale": [
             [
              0,
              "#0d0887"
             ],
             [
              0.1111111111111111,
              "#46039f"
             ],
             [
              0.2222222222222222,
              "#7201a8"
             ],
             [
              0.3333333333333333,
              "#9c179e"
             ],
             [
              0.4444444444444444,
              "#bd3786"
             ],
             [
              0.5555555555555556,
              "#d8576b"
             ],
             [
              0.6666666666666666,
              "#ed7953"
             ],
             [
              0.7777777777777778,
              "#fb9f3a"
             ],
             [
              0.8888888888888888,
              "#fdca26"
             ],
             [
              1,
              "#f0f921"
             ]
            ],
            "type": "histogram2d"
           }
          ],
          "histogram2dcontour": [
           {
            "colorbar": {
             "outlinewidth": 0,
             "ticks": ""
            },
            "colorscale": [
             [
              0,
              "#0d0887"
             ],
             [
              0.1111111111111111,
              "#46039f"
             ],
             [
              0.2222222222222222,
              "#7201a8"
             ],
             [
              0.3333333333333333,
              "#9c179e"
             ],
             [
              0.4444444444444444,
              "#bd3786"
             ],
             [
              0.5555555555555556,
              "#d8576b"
             ],
             [
              0.6666666666666666,
              "#ed7953"
             ],
             [
              0.7777777777777778,
              "#fb9f3a"
             ],
             [
              0.8888888888888888,
              "#fdca26"
             ],
             [
              1,
              "#f0f921"
             ]
            ],
            "type": "histogram2dcontour"
           }
          ],
          "mesh3d": [
           {
            "colorbar": {
             "outlinewidth": 0,
             "ticks": ""
            },
            "type": "mesh3d"
           }
          ],
          "parcoords": [
           {
            "line": {
             "colorbar": {
              "outlinewidth": 0,
              "ticks": ""
             }
            },
            "type": "parcoords"
           }
          ],
          "pie": [
           {
            "automargin": true,
            "type": "pie"
           }
          ],
          "scatter": [
           {
            "fillpattern": {
             "fillmode": "overlay",
             "size": 10,
             "solidity": 0.2
            },
            "type": "scatter"
           }
          ],
          "scatter3d": [
           {
            "line": {
             "colorbar": {
              "outlinewidth": 0,
              "ticks": ""
             }
            },
            "marker": {
             "colorbar": {
              "outlinewidth": 0,
              "ticks": ""
             }
            },
            "type": "scatter3d"
           }
          ],
          "scattercarpet": [
           {
            "marker": {
             "colorbar": {
              "outlinewidth": 0,
              "ticks": ""
             }
            },
            "type": "scattercarpet"
           }
          ],
          "scattergeo": [
           {
            "marker": {
             "colorbar": {
              "outlinewidth": 0,
              "ticks": ""
             }
            },
            "type": "scattergeo"
           }
          ],
          "scattergl": [
           {
            "marker": {
             "colorbar": {
              "outlinewidth": 0,
              "ticks": ""
             }
            },
            "type": "scattergl"
           }
          ],
          "scattermapbox": [
           {
            "marker": {
             "colorbar": {
              "outlinewidth": 0,
              "ticks": ""
             }
            },
            "type": "scattermapbox"
           }
          ],
          "scatterpolar": [
           {
            "marker": {
             "colorbar": {
              "outlinewidth": 0,
              "ticks": ""
             }
            },
            "type": "scatterpolar"
           }
          ],
          "scatterpolargl": [
           {
            "marker": {
             "colorbar": {
              "outlinewidth": 0,
              "ticks": ""
             }
            },
            "type": "scatterpolargl"
           }
          ],
          "scatterternary": [
           {
            "marker": {
             "colorbar": {
              "outlinewidth": 0,
              "ticks": ""
             }
            },
            "type": "scatterternary"
           }
          ],
          "surface": [
           {
            "colorbar": {
             "outlinewidth": 0,
             "ticks": ""
            },
            "colorscale": [
             [
              0,
              "#0d0887"
             ],
             [
              0.1111111111111111,
              "#46039f"
             ],
             [
              0.2222222222222222,
              "#7201a8"
             ],
             [
              0.3333333333333333,
              "#9c179e"
             ],
             [
              0.4444444444444444,
              "#bd3786"
             ],
             [
              0.5555555555555556,
              "#d8576b"
             ],
             [
              0.6666666666666666,
              "#ed7953"
             ],
             [
              0.7777777777777778,
              "#fb9f3a"
             ],
             [
              0.8888888888888888,
              "#fdca26"
             ],
             [
              1,
              "#f0f921"
             ]
            ],
            "type": "surface"
           }
          ],
          "table": [
           {
            "cells": {
             "fill": {
              "color": "#EBF0F8"
             },
             "line": {
              "color": "white"
             }
            },
            "header": {
             "fill": {
              "color": "#C8D4E3"
             },
             "line": {
              "color": "white"
             }
            },
            "type": "table"
           }
          ]
         },
         "layout": {
          "annotationdefaults": {
           "arrowcolor": "#2a3f5f",
           "arrowhead": 0,
           "arrowwidth": 1
          },
          "autotypenumbers": "strict",
          "coloraxis": {
           "colorbar": {
            "outlinewidth": 0,
            "ticks": ""
           }
          },
          "colorscale": {
           "diverging": [
            [
             0,
             "#8e0152"
            ],
            [
             0.1,
             "#c51b7d"
            ],
            [
             0.2,
             "#de77ae"
            ],
            [
             0.3,
             "#f1b6da"
            ],
            [
             0.4,
             "#fde0ef"
            ],
            [
             0.5,
             "#f7f7f7"
            ],
            [
             0.6,
             "#e6f5d0"
            ],
            [
             0.7,
             "#b8e186"
            ],
            [
             0.8,
             "#7fbc41"
            ],
            [
             0.9,
             "#4d9221"
            ],
            [
             1,
             "#276419"
            ]
           ],
           "sequential": [
            [
             0,
             "#0d0887"
            ],
            [
             0.1111111111111111,
             "#46039f"
            ],
            [
             0.2222222222222222,
             "#7201a8"
            ],
            [
             0.3333333333333333,
             "#9c179e"
            ],
            [
             0.4444444444444444,
             "#bd3786"
            ],
            [
             0.5555555555555556,
             "#d8576b"
            ],
            [
             0.6666666666666666,
             "#ed7953"
            ],
            [
             0.7777777777777778,
             "#fb9f3a"
            ],
            [
             0.8888888888888888,
             "#fdca26"
            ],
            [
             1,
             "#f0f921"
            ]
           ],
           "sequentialminus": [
            [
             0,
             "#0d0887"
            ],
            [
             0.1111111111111111,
             "#46039f"
            ],
            [
             0.2222222222222222,
             "#7201a8"
            ],
            [
             0.3333333333333333,
             "#9c179e"
            ],
            [
             0.4444444444444444,
             "#bd3786"
            ],
            [
             0.5555555555555556,
             "#d8576b"
            ],
            [
             0.6666666666666666,
             "#ed7953"
            ],
            [
             0.7777777777777778,
             "#fb9f3a"
            ],
            [
             0.8888888888888888,
             "#fdca26"
            ],
            [
             1,
             "#f0f921"
            ]
           ]
          },
          "colorway": [
           "#636efa",
           "#EF553B",
           "#00cc96",
           "#ab63fa",
           "#FFA15A",
           "#19d3f3",
           "#FF6692",
           "#B6E880",
           "#FF97FF",
           "#FECB52"
          ],
          "font": {
           "color": "#2a3f5f"
          },
          "geo": {
           "bgcolor": "white",
           "lakecolor": "white",
           "landcolor": "#E5ECF6",
           "showlakes": true,
           "showland": true,
           "subunitcolor": "white"
          },
          "hoverlabel": {
           "align": "left"
          },
          "hovermode": "closest",
          "mapbox": {
           "style": "light"
          },
          "paper_bgcolor": "white",
          "plot_bgcolor": "#E5ECF6",
          "polar": {
           "angularaxis": {
            "gridcolor": "white",
            "linecolor": "white",
            "ticks": ""
           },
           "bgcolor": "#E5ECF6",
           "radialaxis": {
            "gridcolor": "white",
            "linecolor": "white",
            "ticks": ""
           }
          },
          "scene": {
           "xaxis": {
            "backgroundcolor": "#E5ECF6",
            "gridcolor": "white",
            "gridwidth": 2,
            "linecolor": "white",
            "showbackground": true,
            "ticks": "",
            "zerolinecolor": "white"
           },
           "yaxis": {
            "backgroundcolor": "#E5ECF6",
            "gridcolor": "white",
            "gridwidth": 2,
            "linecolor": "white",
            "showbackground": true,
            "ticks": "",
            "zerolinecolor": "white"
           },
           "zaxis": {
            "backgroundcolor": "#E5ECF6",
            "gridcolor": "white",
            "gridwidth": 2,
            "linecolor": "white",
            "showbackground": true,
            "ticks": "",
            "zerolinecolor": "white"
           }
          },
          "shapedefaults": {
           "line": {
            "color": "#2a3f5f"
           }
          },
          "ternary": {
           "aaxis": {
            "gridcolor": "white",
            "linecolor": "white",
            "ticks": ""
           },
           "baxis": {
            "gridcolor": "white",
            "linecolor": "white",
            "ticks": ""
           },
           "bgcolor": "#E5ECF6",
           "caxis": {
            "gridcolor": "white",
            "linecolor": "white",
            "ticks": ""
           }
          },
          "title": {
           "x": 0.05
          },
          "xaxis": {
           "automargin": true,
           "gridcolor": "white",
           "linecolor": "white",
           "ticks": "",
           "title": {
            "standoff": 15
           },
           "zerolinecolor": "white",
           "zerolinewidth": 2
          },
          "yaxis": {
           "automargin": true,
           "gridcolor": "white",
           "linecolor": "white",
           "ticks": "",
           "title": {
            "standoff": 15
           },
           "zerolinecolor": "white",
           "zerolinewidth": 2
          }
         }
        },
        "title": {
         "text": "Model Accuracies for Sloth Species Classification"
        },
        "xaxis": {
         "anchor": "y",
         "domain": [
          0,
          1
         ],
         "title": {
          "text": "Model Name"
         }
        },
        "yaxis": {
         "anchor": "x",
         "domain": [
          0,
          1
         ],
         "title": {
          "text": "Accuracy"
         }
        }
       }
      }
     },
     "metadata": {},
     "output_type": "display_data"
    }
   ],
   "source": [
    "import plotly.express as px\n",
    "\n",
    "data = [['Decision Tree', dt_accuracy], ['RandomForest', rf_accuracy], ['Gradient Boosting Classifier', gbc_accuracy]]\n",
    "df = pd.DataFrame(data, columns=['Model Name', 'Accuracy'])\n",
    "\n",
    "fig = px.bar(df, x='Model Name', y='Accuracy', title = 'Model Accuracies for Sloth Species Classification')\n",
    "fig.show()"
   ]
  },
  {
   "attachments": {},
   "cell_type": "markdown",
   "metadata": {},
   "source": [
    "While the original decision tree model already performed quite well, both random forest and gradient boosting classifier did perform ever to slightly marginally better."
   ]
  },
  {
   "attachments": {},
   "cell_type": "markdown",
   "metadata": {},
   "source": [
    "In this next section we will classify the subspecies of sloth. The data is split based on species and moving forward we will focus on the three-toed sloths only. Although the code will run for a selection of both three-toed and two-toed data subsets, the discussion will focus soley on the three-toed sloth data as this data is more interesting (there are only 2 sub-species of two-toed sloth.)"
   ]
  },
  {
   "cell_type": "code",
   "execution_count": 19,
   "metadata": {},
   "outputs": [
    {
     "data": {
      "text/plain": [
       "<AxesSubplot:>"
      ]
     },
     "execution_count": 19,
     "metadata": {},
     "output_type": "execute_result"
    },
    {
     "data": {
      "image/png": "[encoded data removed]",
      "text/plain": [
       "<Figure size 640x480 with 1 Axes>"
      ]
     },
     "metadata": {},
     "output_type": "display_data"
    }
   ],
   "source": [
    "\n",
    "#######################IMPORTANT!!!!!!!!!!!###################################\n",
    "#\n",
    "# uncomment to do analysis for three_toed or two toed -> note there are only two species of two toed sloth so not particularily\n",
    "# interesting to explore\n",
    "#\n",
    "###############################################################################\n",
    "\n",
    "#Split data based on species. \n",
    "\n",
    "sloths_sub = sloths.loc[(sloths[\"specie\"] == \"three_toed\")]\n",
    "#sloths_sub = sloths.loc[(sloths[\"specie\"] == \"two_toed\")]\n",
    "\n",
    "sloths_sub['sub_specie'].value_counts().plot.bar()"
   ]
  },
  {
   "attachments": {},
   "cell_type": "markdown",
   "metadata": {},
   "source": [
    "As before we begin with analysing the distribution of the data. The three-toed sub species data is imbalanced, which will be taken into account moving forward. To allow the use of the ROC AUC metric, numerically map the sub species class from 0-3. "
   ]
  },
  {
   "cell_type": "code",
   "execution_count": 20,
   "metadata": {},
   "outputs": [
    {
     "data": {
      "text/plain": [
       "[<matplotlib.lines.Line2D at 0x2382bfd3f70>]"
      ]
     },
     "execution_count": 20,
     "metadata": {},
     "output_type": "execute_result"
    },
    {
     "data": {
      "image/png": "[encoded data removed]",
      "text/plain": [
       "<Figure size 640x480 with 1 Axes>"
      ]
     },
     "metadata": {},
     "output_type": "display_data"
    }
   ],
   "source": [
    "#train test split\n",
    "#ensure 'shuffle = True' to account for the imbalanced dataset\n",
    "\n",
    "to_drop_sloth = ['Unnamed: 0','endangered','specie','sub_specie']\n",
    "sloths_sub_X = sloths_sub.drop(to_drop_sloth,axis=1)\n",
    "sloths_sub_y = sloths_sub['sub_specie']\n",
    "\n",
    "species = sloths_sub[\"specie\"].unique()\n",
    "\n",
    "#want to use ROC_AUC score as a measure of the quality of the model because the dataset is imbalanced, therefore numerically map the data.\n",
    "if species == 'three_toed':\n",
    "\n",
    "    codes = {'Pygmy three-toed sloth':0, 'Maned three-toed sloth':1, 'Pale-throated sloth':2, 'Brown-throated sloth':3}\n",
    "    sloths_sub_y = sloths_sub_y.map(codes)\n",
    "\n",
    "elif species == 'three_toed':\n",
    "    \n",
    "    codes = {'Linnaeus’s two-toed sloth':0, 'Hoffman’s two-toed sloth':1}\n",
    "    sloths_sub_y = sloths_sub_y.map(codes)\n",
    "\n",
    "\n",
    "sloths_sub_X_train, sloths_sub_X_test, sloths_sub_y_train, sloths_sub_y_test = train_test_split(sloths_sub_X, sloths_sub_y,shuffle=True, test_size=0.33, random_state=42)\n",
    "\n",
    "#from previous analysis, we know data has outliers, so scale\n",
    "scaler = StandardScaler()\n",
    "sloths_sub_X_stdscale_train = scaler.fit_transform(sloths_sub_X_train)\n",
    "sloths_sub_X_stdscale_test = scaler.transform(sloths_sub_X_test)\n",
    "\n",
    "#testing if scaling matters for the sub-species dataset. Once again accuracy is unchanged with/without scaling\n",
    "#sloths_sub_X_stdscale_train = sloths_sub_X_train\n",
    "#sloths_sub_X_stdscale_test = sloths_sub_X_test\n",
    "\n",
    "accuracy_sub = []\n",
    "depth = range(1,15)\n",
    "\n",
    "for i in range(1,15):\n",
    "\n",
    "    sloths_sub_model = DecisionTreeClassifier(random_state = 42, max_depth = i)\n",
    "\n",
    "    sloths_sub_model.fit(sloths_sub_X_stdscale_train, sloths_sub_y_train)\n",
    "\n",
    "    sloths_sub_y_pred = sloths_sub_model.predict(sloths_sub_X_stdscale_test)\n",
    "    accuracy_sub.append(accuracy_score(sloths_sub_y_test, sloths_sub_y_pred))\n",
    "    \n",
    "plt.plot(depth, accuracy_sub)"
   ]
  },
  {
   "cell_type": "code",
   "execution_count": 21,
   "metadata": {},
   "outputs": [
    {
     "name": "stdout",
     "output_type": "stream",
     "text": [
      "Accuracy Score: \n",
      " 0.9340159271899886\n",
      "Classification Report: \n",
      "               precision    recall  f1-score   support\n",
      "\n",
      "           0       0.54      0.39      0.45        18\n",
      "           1       0.93      0.85      0.89       191\n",
      "           2       0.97      0.98      0.98       353\n",
      "           3       0.92      0.96      0.94       317\n",
      "\n",
      "    accuracy                           0.93       879\n",
      "   macro avg       0.84      0.80      0.81       879\n",
      "weighted avg       0.93      0.93      0.93       879\n",
      "\n",
      "Lowest f1-score \n",
      " 0.45161290322580644\n",
      "ROC AUC: \n",
      " 0.9571309486773864\n"
     ]
    }
   ],
   "source": [
    "#for three toed sloths the peak depth is 6. For two toed the peak depth is 4\n",
    "\n",
    "\n",
    "if species == 'three_toed':\n",
    "    sloths_sub_model = DecisionTreeClassifier(random_state = 42, max_depth = 6)\n",
    "elif species == 'two_toed':\n",
    "    sloths_sub_model = DecisionTreeClassifier(random_state = 42, max_depth = 4)\n",
    "\n",
    "sloths_sub_model.fit(sloths_sub_X_stdscale_train, sloths_sub_y_train)\n",
    "\n",
    "sloths_sub_y_pred = sloths_sub_model.predict(sloths_sub_X_stdscale_test)\n",
    "sloths_sub_y_pred_proba = sloths_sub_model.predict_proba(sloths_sub_X_stdscale_test)\n",
    "\n",
    "dt_sub_accuracy = accuracy_score(sloths_sub_y_test, sloths_sub_y_pred)\n",
    "dt_classification_report = classification_report(sloths_sub_y_test, sloths_sub_y_pred, output_dict=True)\n",
    "dt_lowest_f1 = dt_classification_report['0']['f1-score']\n",
    "dt_roc_auc = roc_auc_score(sloths_sub_y_test, sloths_sub_y_pred_proba, multi_class='ovo', average = 'macro')\n",
    "\n",
    "#Print accuracy of model\n",
    "print('Accuracy Score: \\n',accuracy_score(sloths_sub_y_test, sloths_sub_y_pred))\n",
    "print('Classification Report: \\n', classification_report(sloths_sub_y_test, sloths_sub_y_pred))\n",
    "print('Lowest f1-score \\n', dt_lowest_f1)\n",
    "print('ROC AUC: \\n', roc_auc_score(sloths_sub_y_test, sloths_sub_y_pred_proba, multi_class='ovo', average = 'weighted'))"
   ]
  },
  {
   "attachments": {},
   "cell_type": "markdown",
   "metadata": {},
   "source": [
    "While this model overall has a high accuracy, it is clear that this metric does no tell the whole story. The precision/recall/f1-score of the model with respect to the pygmy three-toed sloth is far lower than the others. Now as before, plot the most important features."
   ]
  },
  {
   "cell_type": "code",
   "execution_count": 22,
   "metadata": {},
   "outputs": [
    {
     "data": {
      "text/plain": [
       "<AxesSubplot:ylabel='feature'>"
      ]
     },
     "execution_count": 22,
     "metadata": {},
     "output_type": "execute_result"
    },
    {
     "data": {
      "image/png": "[encoded data removed]",
      "text/plain": [
       "<Figure size 640x480 with 1 Axes>"
      ]
     },
     "metadata": {},
     "output_type": "display_data"
    }
   ],
   "source": [
    "sloths_sub_features = sloths_sub_X.columns\n",
    "\n",
    "sloths_sub_model.feature_importances_\n",
    "\n",
    "list(zip(sloths_sub_features, sloths_sub_model.feature_importances_))\n",
    "\n",
    "important_features = pd.DataFrame(list(zip(sloths_sub_features, sloths_sub_model.feature_importances_)), columns=['feature', 'importance'])\n",
    "important_features.set_index('feature', inplace=True)\n",
    "important_features.sort_values(by='importance').plot(kind='barh')"
   ]
  },
  {
   "attachments": {},
   "cell_type": "markdown",
   "metadata": {},
   "source": [
    "While tail length was most important for distinguishing between species of sloth, sloth size is most important for distinguishing between sub-species of sloths. Next we will plot the two most important features."
   ]
  },
  {
   "cell_type": "code",
   "execution_count": 23,
   "metadata": {},
   "outputs": [
    {
     "data": {
      "image/png": "[encoded data removed]",
      "text/plain": [
       "<Figure size 640x480 with 1 Axes>"
      ]
     },
     "metadata": {},
     "output_type": "display_data"
    }
   ],
   "source": [
    "#section plot distribution of two most important features for classification of sub species of sloth. Add in ability to plot the results\n",
    "#from the two-toed sloth as well for completeness (Results not to be discussed for simplicity)\n",
    "\n",
    "species = sloths_sub[\"specie\"].unique()\n",
    "\n",
    "\n",
    "cmap = plt.get_cmap(\"tab10\")\n",
    "\n",
    "if species == 'three_toed':\n",
    "    pygmy = sloths.loc[(sloths[\"sub_specie\"] == \"Pygmy three-toed sloth\"), [\"sub_specie\", \"weight_kg\", \"size_cm\"]]\n",
    "    maned = sloths.loc[(sloths[\"sub_specie\"] == \"Maned three-toed sloth\"), [\"sub_specie\", \"weight_kg\", \"size_cm\"]]\n",
    "    pale = sloths.loc[(sloths[\"sub_specie\"] == \"Pale-throated sloth\"), [\"sub_specie\", \"weight_kg\", \"size_cm\"]]\n",
    "    brown = sloths.loc[(sloths[\"sub_specie\"] == \"Brown-throated sloth\"), [\"sub_specie\", \"weight_kg\", \"size_cm\"]]\n",
    "\n",
    "    pygmy_plt = plt.scatter(pygmy[\"weight_kg\"], pygmy[\"size_cm\"], facecolors='none', edgecolors=cmap(1))\n",
    "    maned_plt = plt.scatter(maned[\"weight_kg\"], maned[\"size_cm\"], facecolors='none', edgecolors=cmap(2))\n",
    "    pale_plt = plt.scatter(pale[\"weight_kg\"], pale[\"size_cm\"], facecolors='none', edgecolors=cmap(3))\n",
    "    brown_plt = plt.scatter(brown[\"weight_kg\"], brown[\"size_cm\"], facecolors='none', edgecolors=cmap(4))\n",
    "\n",
    "    plt.legend((pygmy_plt, maned_plt, pale_plt, brown_plt),\n",
    "           ('Pygmy three-toed sloth', 'Maned three-toed sloth', 'Pale-throated sloth', 'Brown-throated sloth'),\n",
    "           scatterpoints=1,\n",
    "           loc='lower left',\n",
    "           ncol=3,\n",
    "           fontsize=8)\n",
    "    \n",
    "    plt.title('Weight vs size of three-toed sloths')\n",
    "    plt.xlabel('Weight (kg)')\n",
    "    plt.ylabel('Size (cm)')\n",
    "    plt.show()\n",
    "\n",
    "elif species == 'two_toed':\n",
    "    linnaeus = sloths.loc[(sloths[\"sub_specie\"] == \"Linnaeus’s two-toed sloth\"), [\"sub_specie\", \"claw_length_cm\", \"size_cm\"]]\n",
    "    hoffman = sloths.loc[(sloths[\"sub_specie\"] == \"Hoffman’s two-toed sloth\"), [\"sub_specie\", \"claw_length_cm\", \"size_cm\"]]\n",
    "\n",
    "    linnaeus_plt = plt.scatter(linnaeus[\"claw_length_cm\"], linnaeus[\"size_cm\"], facecolors='none', edgecolors=cmap(1))\n",
    "    hoffman_plt = plt.scatter(hoffman[\"claw_length_cm\"], hoffman[\"size_cm\"], facecolors='none', edgecolors=cmap(2))\n",
    "\n",
    "    plt.legend((linnaeus_plt, hoffman_plt),\n",
    "           ('Linnaeus’s two-toed sloth', 'Hoffman’s two-toed sloth'),\n",
    "           scatterpoints=1,\n",
    "           loc='lower left',\n",
    "           ncol=3,\n",
    "           fontsize=8)\n",
    "    \n",
    "    plt.title('Claw Length vs size of two-toed sloths')\n",
    "    plt.xlabel('Claw Length (cm)')\n",
    "    plt.ylabel('Size (cm)')\n",
    "    plt.show()"
   ]
  },
  {
   "attachments": {},
   "cell_type": "markdown",
   "metadata": {},
   "source": [
    "The above plot shows that while some sub species of three-toed sloths have clear boundaries between clusters, the pygmy three-toed sloth and pale-throated sloth have a lot of overlap, which was expected as the precision/recall/f1-score for this feature was low. Is it a small Pale-throated sloth or a big Pygmy three-toed sloth? Perhaps some more complex models can improve this metric. As before we will use random forest and gradient boosting classifer. To start we will use default hyper-parameters."
   ]
  },
  {
   "cell_type": "code",
   "execution_count": 24,
   "metadata": {},
   "outputs": [
    {
     "name": "stdout",
     "output_type": "stream",
     "text": [
      "Accuracy Score: \n",
      " 0.9453924914675768\n",
      "Classification Report: \n",
      "               precision    recall  f1-score   support\n",
      "\n",
      "           0       0.67      0.44      0.53        18\n",
      "           1       0.92      0.90      0.91       191\n",
      "           2       0.97      0.99      0.98       353\n",
      "           3       0.94      0.95      0.95       317\n",
      "\n",
      "    accuracy                           0.95       879\n",
      "   macro avg       0.87      0.82      0.84       879\n",
      "weighted avg       0.94      0.95      0.94       879\n",
      "\n",
      "Lowest f1-score \n",
      " 0.5333333333333333\n",
      "ROC AUC: \n",
      " 0.9875295746006745\n"
     ]
    }
   ],
   "source": [
    "\n",
    "gbc_sub_model = GradientBoostingClassifier(random_state=42)\n",
    "gbc_sub_model.fit(sloths_sub_X_stdscale_train, sloths_sub_y_train)\n",
    "sloths_sub_y_pred = gbc_sub_model.predict(sloths_sub_X_stdscale_test)\n",
    "sloths_sub_y_pred_proba = gbc_sub_model.predict_proba(sloths_sub_X_stdscale_test)\n",
    "\n",
    "gbc_sub_accuracy = accuracy_score(sloths_sub_y_test, sloths_sub_y_pred)\n",
    "gbc_classification_report = classification_report(sloths_sub_y_test, sloths_sub_y_pred, output_dict=True)\n",
    "gbc_lowest_f1 = gbc_classification_report['0']['f1-score']\n",
    "gbc_roc_auc = roc_auc_score(sloths_sub_y_test, sloths_sub_y_pred_proba, multi_class='ovo', average = 'weighted')\n",
    "\n",
    "print('Accuracy Score: \\n', accuracy_score(sloths_sub_y_test, sloths_sub_y_pred))\n",
    "print('Classification Report: \\n', classification_report(sloths_sub_y_test, sloths_sub_y_pred))\n",
    "print('Lowest f1-score \\n', gbc_lowest_f1)\n",
    "print('ROC AUC: \\n', roc_auc_score(sloths_sub_y_test, sloths_sub_y_pred_proba, multi_class='ovo', average = 'weighted'))\n"
   ]
  },
  {
   "attachments": {},
   "cell_type": "markdown",
   "metadata": {},
   "source": [
    "Plot Variable Importance"
   ]
  },
  {
   "cell_type": "code",
   "execution_count": 25,
   "metadata": {},
   "outputs": [],
   "source": [
    "# Plotting this adds no new information as the feature importances remain consistent from what was previously discovered using the\n",
    "# decision tree classifer.\n",
    "\n",
    "# importance = gbc_sub_model.feature_importances_\n",
    "# importance = pd.DataFrame(importance, \n",
    "#                           columns=[\"Importance\"],\n",
    "#                           index = sloths_sub_X.columns\n",
    "#                          )\n",
    "\n",
    "# print(importance.iloc[:, 0])\n",
    "\n",
    "# importance.sort_values(by='Importance').plot(kind='barh')"
   ]
  },
  {
   "cell_type": "code",
   "execution_count": 26,
   "metadata": {},
   "outputs": [
    {
     "name": "stdout",
     "output_type": "stream",
     "text": [
      "Accuracy Score: \n",
      " 0.9453924914675768\n",
      "Classification Report: \n",
      "               precision    recall  f1-score   support\n",
      "\n",
      "           0       0.64      0.39      0.48        18\n",
      "           1       0.92      0.91      0.91       191\n",
      "           2       0.97      0.99      0.98       353\n",
      "           3       0.94      0.95      0.95       317\n",
      "\n",
      "    accuracy                           0.95       879\n",
      "   macro avg       0.87      0.81      0.83       879\n",
      "weighted avg       0.94      0.95      0.94       879\n",
      "\n",
      "Lowest f1-score \n",
      " 0.4827586206896552\n",
      "ROC AUC: \n",
      " 0.9821798325564423\n"
     ]
    }
   ],
   "source": [
    "\n",
    "rf_sub_model = RandomForestClassifier(random_state=42)\n",
    "rf_sub_model.fit(sloths_sub_X_stdscale_train, sloths_sub_y_train)\n",
    "sloths_sub_y_pred = rf_sub_model.predict(sloths_sub_X_stdscale_test)\n",
    "sloths_sub_y_pred_proba = rf_sub_model.predict_proba(sloths_sub_X_stdscale_test)\n",
    "\n",
    "rf_sub_accuracy = accuracy_score(sloths_sub_y_test, sloths_sub_y_pred)\n",
    "rf_classification_report = classification_report(sloths_sub_y_test, sloths_sub_y_pred, output_dict=True)\n",
    "rf_lowest_f1 = rf_classification_report['0']['f1-score']\n",
    "rf_roc_auc = roc_auc_score(sloths_sub_y_test, sloths_sub_y_pred_proba, multi_class='ovo', average = 'weighted')\n",
    "\n",
    "print('Accuracy Score: \\n', accuracy_score(sloths_sub_y_test, sloths_sub_y_pred))\n",
    "print('Classification Report: \\n', classification_report(sloths_sub_y_test, sloths_sub_y_pred))\n",
    "print('Lowest f1-score \\n', rf_lowest_f1)\n",
    "print('ROC AUC: \\n', roc_auc_score(sloths_sub_y_test, sloths_sub_y_pred_proba, multi_class='ovo', average = 'weighted'))"
   ]
  },
  {
   "attachments": {},
   "cell_type": "markdown",
   "metadata": {},
   "source": [
    "Plot Variable Importance"
   ]
  },
  {
   "cell_type": "code",
   "execution_count": 27,
   "metadata": {},
   "outputs": [],
   "source": [
    "# As noted above, uncomment as this adds no new information.\n",
    "# importance = rf_sub_model.feature_importances_\n",
    "# importance = pd.DataFrame(importance, \n",
    "#                           columns=[\"Importance\"],\n",
    "#                           index = sloths_sub_X.columns\n",
    "#                          )\n",
    "\n",
    "# print(importance.iloc[:, 0])\n",
    "\n",
    "# importance.sort_values(by='Importance').plot(kind='barh')"
   ]
  },
  {
   "attachments": {},
   "cell_type": "markdown",
   "metadata": {},
   "source": [
    "What is most interesting about using these other models is that while the overall accuracy is similar to the decision tree classifier, the precision/recall/fi-score for the classification of the pygmy three-toed sloth improved using of both models."
   ]
  },
  {
   "attachments": {},
   "cell_type": "markdown",
   "metadata": {},
   "source": [
    "In this next section we will explore if hyperp-parameter tuning for the random forest and gradient boosting classifiers will improve the model performance. "
   ]
  },
  {
   "attachments": {},
   "cell_type": "markdown",
   "metadata": {},
   "source": [
    "Use gridsearch to tune the hyper-parameters for both gradient boosting classifier and random forest. To handle the imbalanced data, use stratifiedkfolds in cross-validation. Also utilize roc_auc_ovr parameter for scoring. From the documentation:\n",
    "\n",
    "'ovr':\n",
    "\n",
    "    Stands for One-vs-rest. Computes the AUC of each class against the rest [3] [4]. This treats the multiclass case in the same way as the multilabel case. Sensitive to class imbalance even when average == 'macro', because class imbalance affects the composition of each of the ‘rest’ groupings.\n"
   ]
  },
  {
   "cell_type": "markdown",
   "metadata": {},
   "source": []
  },
  {
   "cell_type": "code",
   "execution_count": 28,
   "metadata": {},
   "outputs": [],
   "source": [
    "from sklearn.model_selection import GridSearchCV\n",
    "from sklearn.model_selection import StratifiedKFold\n",
    "\n",
    "#'learning_rate': [0.1, 0.5],\n",
    "#max_features default = none\n",
    "\n",
    "param_grid_gbm = {\n",
    "                  'n_estimators': [20, 50, 100],\n",
    "                  #'max_features' : ['auto','sqrt'],\n",
    "                  'min_samples_leaf': [1, 2, 4],\n",
    "                  \"min_samples_split\": [2,4,6],\n",
    "                  'max_depth' : [3,4,5,10],\n",
    "                  }\n",
    "\n",
    "gbm = GradientBoostingClassifier(random_state=42)\n",
    "\n",
    "#because unbalanced data us stratified folds\n",
    "kf = StratifiedKFold(n_splits=5, shuffle=True)\n",
    "\n",
    "grid_gbm = GridSearchCV(estimator=gbm, \n",
    "                        param_grid=param_grid_gbm, \n",
    "                        #cv=kf,n_jobs = -1)\n",
    "                        cv=kf,n_jobs = -1, scoring = 'roc_auc_ovr')\n",
    "\n",
    "grid_gbm.fit(sloths_sub_X_stdscale_train, sloths_sub_y_train)\n",
    "\n",
    "grid_gbm_accuracy = grid_gbm.best_score_"
   ]
  },
  {
   "cell_type": "code",
   "execution_count": 29,
   "metadata": {},
   "outputs": [
    {
     "name": "stdout",
     "output_type": "stream",
     "text": [
      "0.9750350560929931\n",
      "{'max_depth': 3, 'min_samples_leaf': 2, 'min_samples_split': 2, 'n_estimators': 50}\n",
      "GradientBoostingClassifier(min_samples_leaf=2, n_estimators=50, random_state=42)\n"
     ]
    }
   ],
   "source": [
    "print(grid_gbm.best_score_)\n",
    "print(grid_gbm.best_params_)\n",
    "print(grid_gbm.best_estimator_)"
   ]
  },
  {
   "cell_type": "code",
   "execution_count": 32,
   "metadata": {},
   "outputs": [],
   "source": [
    "\n",
    "param_grid_df = { \n",
    "    'n_estimators': [10,100,200],\n",
    "    'max_features': ['sqrt', 'auto'],\n",
    "    #'max_depth' : [5,10,20],\n",
    "    \"min_samples_split\": [2,4,6],\n",
    "    \"min_samples_leaf\": [1, 2, 4],\n",
    "    #'class_weight' :['balanced_subsample']  #<---- this makes the model much worse\n",
    "}\n",
    "\n",
    "#because unbalanced data us stratified folds\n",
    "kf = StratifiedKFold(n_splits=5, shuffle=True)\n",
    "\n",
    "rf=RandomForestClassifier(random_state=42)\n",
    "\n",
    "grid_rfc = GridSearchCV(estimator=rf, \n",
    "                        param_grid=param_grid_df, \n",
    "                        cv=kf, \n",
    "                        scoring = 'roc_auc_ovr',\n",
    "                        n_jobs = -1)\n",
    "grid_rfc.fit(sloths_sub_X_stdscale_train, sloths_sub_y_train)\n",
    "\n",
    "grid_rfc_accuracy = grid_rfc.best_score_\n",
    "\n"
   ]
  },
  {
   "cell_type": "code",
   "execution_count": 33,
   "metadata": {},
   "outputs": [
    {
     "name": "stdout",
     "output_type": "stream",
     "text": [
      "0.978900155209758\n",
      "{'class_weight': 'balanced_subsample', 'max_features': 'sqrt', 'min_samples_leaf': 1, 'min_samples_split': 4, 'n_estimators': 200}\n",
      "RandomForestClassifier(class_weight='balanced_subsample', max_features='sqrt',\n",
      "                       min_samples_split=4, n_estimators=200, random_state=42)\n"
     ]
    }
   ],
   "source": [
    "print(grid_rfc.best_score_)\n",
    "print(grid_rfc.best_params_)\n",
    "print(grid_rfc.best_estimator_)"
   ]
  },
  {
   "attachments": {},
   "cell_type": "markdown",
   "metadata": {},
   "source": [
    "Use optimized hyper-parameters to build the \"best\" models "
   ]
  },
  {
   "cell_type": "code",
   "execution_count": 34,
   "metadata": {},
   "outputs": [
    {
     "name": "stdout",
     "output_type": "stream",
     "text": [
      "Accuracy Score: \n",
      " 0.9362912400455062\n",
      "Classification Report: \n",
      "               precision    recall  f1-score   support\n",
      "\n",
      "           0       0.38      0.28      0.32        18\n",
      "           1       0.92      0.90      0.91       191\n",
      "           2       0.96      0.98      0.97       353\n",
      "           3       0.94      0.95      0.95       317\n",
      "\n",
      "    accuracy                           0.94       879\n",
      "   macro avg       0.80      0.78      0.79       879\n",
      "weighted avg       0.93      0.94      0.93       879\n",
      "\n",
      "Lowest f1-score \n",
      " 0.3225806451612903\n",
      "ROC AUC: \n",
      " 0.9829982804461803\n"
     ]
    }
   ],
   "source": [
    "params = grid_rfc.best_params_\n",
    "\n",
    "rf_best_sub_model = RandomForestClassifier(**params, random_state = 42)\n",
    "rf_best_sub_model.fit(sloths_sub_X_stdscale_train, sloths_sub_y_train)\n",
    "sloths_sub_y_pred = rf_best_sub_model.predict(sloths_sub_X_stdscale_test)\n",
    "sloths_sub_y_pred_proba = rf_best_sub_model.predict_proba(sloths_sub_X_stdscale_test)\n",
    "\n",
    "rf_best_sub_accuracy = accuracy_score(sloths_sub_y_test, sloths_sub_y_pred)\n",
    "rf_best_classification_report = classification_report(sloths_sub_y_test, sloths_sub_y_pred, output_dict=True)\n",
    "rf_best_lowest_f1 = rf_best_classification_report['0']['f1-score']\n",
    "rf_best_roc_auc = roc_auc_score(sloths_sub_y_test, sloths_sub_y_pred_proba, multi_class='ovr', average = 'macro')\n",
    "\n",
    "print('Accuracy Score: \\n', accuracy_score(sloths_sub_y_test, sloths_sub_y_pred))\n",
    "print('Classification Report: \\n', classification_report(sloths_sub_y_test, sloths_sub_y_pred))\n",
    "print('Lowest f1-score \\n', rf_best_lowest_f1)\n",
    "print('ROC AUC: \\n', roc_auc_score(sloths_sub_y_test, sloths_sub_y_pred_proba, multi_class='ovr', average = 'macro'))\n",
    "\n"
   ]
  },
  {
   "cell_type": "code",
   "execution_count": 164,
   "metadata": {},
   "outputs": [
    {
     "name": "stdout",
     "output_type": "stream",
     "text": [
      "Accuracy Score: \n",
      " 0.9419795221843004\n",
      "Classification Report: \n",
      "               precision    recall  f1-score   support\n",
      "\n",
      "           0       0.60      0.50      0.55        18\n",
      "           1       0.91      0.90      0.91       191\n",
      "           2       0.97      0.98      0.98       353\n",
      "           3       0.94      0.95      0.94       317\n",
      "\n",
      "    accuracy                           0.94       879\n",
      "   macro avg       0.86      0.83      0.84       879\n",
      "weighted avg       0.94      0.94      0.94       879\n",
      "\n",
      "Lowest f1-score \n",
      " 0.5454545454545454\n",
      "ROC AUC: \n",
      " 0.9899833079646867\n"
     ]
    }
   ],
   "source": [
    "params = grid_gbm.best_params_\n",
    "\n",
    "gbc_best_sub_model = GradientBoostingClassifier(**params, random_state = 42)\n",
    "gbc_best_sub_model.fit(sloths_sub_X_stdscale_train, sloths_sub_y_train)\n",
    "sloths_sub_y_pred = gbc_best_sub_model.predict(sloths_sub_X_stdscale_test)\n",
    "sloths_sub_y_pred_proba= gbc_best_sub_model.predict_proba(sloths_sub_X_stdscale_test)\n",
    "\n",
    "gbc_best_sub_accuracy = accuracy_score(sloths_sub_y_test, sloths_sub_y_pred)\n",
    "gbc_best_classification_report = classification_report(sloths_sub_y_test, sloths_sub_y_pred, output_dict=True)\n",
    "gbc_best_lowest_f1 = gbc_best_classification_report['0']['f1-score']\n",
    "gbc_best_roc_auc = roc_auc_score(sloths_sub_y_test, sloths_sub_y_pred_proba, multi_class='ovr', average = 'macro')\n",
    "\n",
    "print('Accuracy Score: \\n', accuracy_score(sloths_sub_y_test, sloths_sub_y_pred))\n",
    "print('Classification Report: \\n', classification_report(sloths_sub_y_test, sloths_sub_y_pred))\n",
    "print('Lowest f1-score \\n', gbc_best_lowest_f1)\n",
    "print('ROC AUC: \\n', roc_auc_score(sloths_sub_y_test, sloths_sub_y_pred_proba, multi_class='ovr', average = 'macro'))"
   ]
  },
  {
   "attachments": {},
   "cell_type": "markdown",
   "metadata": {},
   "source": [
    "Optimizing the models based on the ROC AUC score and utilizing stratifiedkfolds in cross-validation did marginally improve the models to handle the imbalanced dataset. This will be examined in the graphs below."
   ]
  },
  {
   "attachments": {},
   "cell_type": "markdown",
   "metadata": {},
   "source": [
    "Now use ensemble voting to attempt to improve the modelling."
   ]
  },
  {
   "cell_type": "code",
   "execution_count": 165,
   "metadata": {},
   "outputs": [
    {
     "name": "stdout",
     "output_type": "stream",
     "text": [
      "0.932135775658578\n"
     ]
    }
   ],
   "source": [
    "from sklearn.ensemble import VotingClassifier\n",
    "from sklearn.model_selection import KFold, cross_val_score\n",
    "\n",
    "num_folds = 10\n",
    "kf = StratifiedKFold(n_splits=5, shuffle=True)\n",
    "\n",
    "# create the sub models\n",
    "estimators = []\n",
    "estimators.append(('rf', rf_sub_model))\n",
    "estimators.append(('gbm', gbc_sub_model))\n",
    "\n",
    "estimators.append(('best_gbm', gbc_best_sub_model))\n",
    "estimators.append(('best_rf', rf_best_sub_model))\n",
    "estimators.append(('dt', sloths_sub_model))\n",
    "\n",
    "# create the ensemble model\n",
    "ensemble = VotingClassifier(estimators)\n",
    "results = cross_val_score(ensemble, sloths_sub_X_train, sloths_sub_y_train, cv=kf)\n",
    "\n",
    "ensemble_accuracy = results.mean();\n",
    "\n",
    "print(results.mean())"
   ]
  },
  {
   "attachments": {},
   "cell_type": "markdown",
   "metadata": {},
   "source": [
    "Surprisingly the ensemble method is no better than the default random forest or the default gradient boosting classifer. Will ommit from the charts and dicussion below as I did not have time to properly examine this model."
   ]
  },
  {
   "attachments": {},
   "cell_type": "markdown",
   "metadata": {},
   "source": [
    "Compare all classification methods"
   ]
  },
  {
   "cell_type": "code",
   "execution_count": 166,
   "metadata": {},
   "outputs": [
    {
     "data": {
      "application/vnd.plotly.v1+json": {
       "config": {
        "plotlyServerURL": "https://plot.ly"
       },
       "data": [
        {
         "name": "Accuracy",
         "type": "bar",
         "x": [
          "Decision Tree",
          "RandomForest",
          "GridSearch RandomForest",
          "Gradient Boosting Classifier",
          "GridSeach Gradient Boosting Classifer"
         ],
         "y": [
          0.9340159271899886,
          0.9453924914675768,
          0.9488054607508533,
          0.9453924914675768,
          0.9419795221843004
         ]
        },
        {
         "name": "ROC_AUC",
         "type": "bar",
         "x": [
          "Decision Tree",
          "RandomForest",
          "GridSearch RandomForest",
          "Gradient Boosting Classifier",
          "GridSeach Gradient Boosting Classifer"
         ],
         "y": [
          0.950970784946361,
          0.9821798325564423,
          0.9877220225272563,
          0.9875295746006745,
          0.9899833079646867
         ]
        }
       ],
       "layout": {
        "template": {
         "data": {
          "bar": [
           {
            "error_x": {
             "color": "#2a3f5f"
            },
            "error_y": {
             "color": "#2a3f5f"
            },
            "marker": {
             "line": {
              "color": "#E5ECF6",
              "width": 0.5
             },
             "pattern": {
              "fillmode": "overlay",
              "size": 10,
              "solidity": 0.2
             }
            },
            "type": "bar"
           }
          ],
          "barpolar": [
           {
            "marker": {
             "line": {
              "color": "#E5ECF6",
              "width": 0.5
             },
             "pattern": {
              "fillmode": "overlay",
              "size": 10,
              "solidity": 0.2
             }
            },
            "type": "barpolar"
           }
          ],
          "carpet": [
           {
            "aaxis": {
             "endlinecolor": "#2a3f5f",
             "gridcolor": "white",
             "linecolor": "white",
             "minorgridcolor": "white",
             "startlinecolor": "#2a3f5f"
            },
            "baxis": {
             "endlinecolor": "#2a3f5f",
             "gridcolor": "white",
             "linecolor": "white",
             "minorgridcolor": "white",
             "startlinecolor": "#2a3f5f"
            },
            "type": "carpet"
           }
          ],
          "choropleth": [
           {
            "colorbar": {
             "outlinewidth": 0,
             "ticks": ""
            },
            "type": "choropleth"
           }
          ],
          "contour": [
           {
            "colorbar": {
             "outlinewidth": 0,
             "ticks": ""
            },
            "colorscale": [
             [
              0,
              "#0d0887"
             ],
             [
              0.1111111111111111,
              "#46039f"
             ],
             [
              0.2222222222222222,
              "#7201a8"
             ],
             [
              0.3333333333333333,
              "#9c179e"
             ],
             [
              0.4444444444444444,
              "#bd3786"
             ],
             [
              0.5555555555555556,
              "#d8576b"
             ],
             [
              0.6666666666666666,
              "#ed7953"
             ],
             [
              0.7777777777777778,
              "#fb9f3a"
             ],
             [
              0.8888888888888888,
              "#fdca26"
             ],
             [
              1,
              "#f0f921"
             ]
            ],
            "type": "contour"
           }
          ],
          "contourcarpet": [
           {
            "colorbar": {
             "outlinewidth": 0,
             "ticks": ""
            },
            "type": "contourcarpet"
           }
          ],
          "heatmap": [
           {
            "colorbar": {
             "outlinewidth": 0,
             "ticks": ""
            },
            "colorscale": [
             [
              0,
              "#0d0887"
             ],
             [
              0.1111111111111111,
              "#46039f"
             ],
             [
              0.2222222222222222,
              "#7201a8"
             ],
             [
              0.3333333333333333,
              "#9c179e"
             ],
             [
              0.4444444444444444,
              "#bd3786"
             ],
             [
              0.5555555555555556,
              "#d8576b"
             ],
             [
              0.6666666666666666,
              "#ed7953"
             ],
             [
              0.7777777777777778,
              "#fb9f3a"
             ],
             [
              0.8888888888888888,
              "#fdca26"
             ],
             [
              1,
              "#f0f921"
             ]
            ],
            "type": "heatmap"
           }
          ],
          "heatmapgl": [
           {
            "colorbar": {
             "outlinewidth": 0,
             "ticks": ""
            },
            "colorscale": [
             [
              0,
              "#0d0887"
             ],
             [
              0.1111111111111111,
              "#46039f"
             ],
             [
              0.2222222222222222,
              "#7201a8"
             ],
             [
              0.3333333333333333,
              "#9c179e"
             ],
             [
              0.4444444444444444,
              "#bd3786"
             ],
             [
              0.5555555555555556,
              "#d8576b"
             ],
             [
              0.6666666666666666,
              "#ed7953"
             ],
             [
              0.7777777777777778,
              "#fb9f3a"
             ],
             [
              0.8888888888888888,
              "#fdca26"
             ],
             [
              1,
              "#f0f921"
             ]
            ],
            "type": "heatmapgl"
           }
          ],
          "histogram": [
           {
            "marker": {
             "pattern": {
              "fillmode": "overlay",
              "size": 10,
              "solidity": 0.2
             }
            },
            "type": "histogram"
           }
          ],
          "histogram2d": [
           {
            "colorbar": {
             "outlinewidth": 0,
             "ticks": ""
            },
            "colorscale": [
             [
              0,
              "#0d0887"
             ],
             [
              0.1111111111111111,
              "#46039f"
             ],
             [
              0.2222222222222222,
              "#7201a8"
             ],
             [
              0.3333333333333333,
              "#9c179e"
             ],
             [
              0.4444444444444444,
              "#bd3786"
             ],
             [
              0.5555555555555556,
              "#d8576b"
             ],
             [
              0.6666666666666666,
              "#ed7953"
             ],
             [
              0.7777777777777778,
              "#fb9f3a"
             ],
             [
              0.8888888888888888,
              "#fdca26"
             ],
             [
              1,
              "#f0f921"
             ]
            ],
            "type": "histogram2d"
           }
          ],
          "histogram2dcontour": [
           {
            "colorbar": {
             "outlinewidth": 0,
             "ticks": ""
            },
            "colorscale": [
             [
              0,
              "#0d0887"
             ],
             [
              0.1111111111111111,
              "#46039f"
             ],
             [
              0.2222222222222222,
              "#7201a8"
             ],
             [
              0.3333333333333333,
              "#9c179e"
             ],
             [
              0.4444444444444444,
              "#bd3786"
             ],
             [
              0.5555555555555556,
              "#d8576b"
             ],
             [
              0.6666666666666666,
              "#ed7953"
             ],
             [
              0.7777777777777778,
              "#fb9f3a"
             ],
             [
              0.8888888888888888,
              "#fdca26"
             ],
             [
              1,
              "#f0f921"
             ]
            ],
            "type": "histogram2dcontour"
           }
          ],
          "mesh3d": [
           {
            "colorbar": {
             "outlinewidth": 0,
             "ticks": ""
            },
            "type": "mesh3d"
           }
          ],
          "parcoords": [
           {
            "line": {
             "colorbar": {
              "outlinewidth": 0,
              "ticks": ""
             }
            },
            "type": "parcoords"
           }
          ],
          "pie": [
           {
            "automargin": true,
            "type": "pie"
           }
          ],
          "scatter": [
           {
            "fillpattern": {
             "fillmode": "overlay",
             "size": 10,
             "solidity": 0.2
            },
            "type": "scatter"
           }
          ],
          "scatter3d": [
           {
            "line": {
             "colorbar": {
              "outlinewidth": 0,
              "ticks": ""
             }
            },
            "marker": {
             "colorbar": {
              "outlinewidth": 0,
              "ticks": ""
             }
            },
            "type": "scatter3d"
           }
          ],
          "scattercarpet": [
           {
            "marker": {
             "colorbar": {
              "outlinewidth": 0,
              "ticks": ""
             }
            },
            "type": "scattercarpet"
           }
          ],
          "scattergeo": [
           {
            "marker": {
             "colorbar": {
              "outlinewidth": 0,
              "ticks": ""
             }
            },
            "type": "scattergeo"
           }
          ],
          "scattergl": [
           {
            "marker": {
             "colorbar": {
              "outlinewidth": 0,
              "ticks": ""
             }
            },
            "type": "scattergl"
           }
          ],
          "scattermapbox": [
           {
            "marker": {
             "colorbar": {
              "outlinewidth": 0,
              "ticks": ""
             }
            },
            "type": "scattermapbox"
           }
          ],
          "scatterpolar": [
           {
            "marker": {
             "colorbar": {
              "outlinewidth": 0,
              "ticks": ""
             }
            },
            "type": "scatterpolar"
           }
          ],
          "scatterpolargl": [
           {
            "marker": {
             "colorbar": {
              "outlinewidth": 0,
              "ticks": ""
             }
            },
            "type": "scatterpolargl"
           }
          ],
          "scatterternary": [
           {
            "marker": {
             "colorbar": {
              "outlinewidth": 0,
              "ticks": ""
             }
            },
            "type": "scatterternary"
           }
          ],
          "surface": [
           {
            "colorbar": {
             "outlinewidth": 0,
             "ticks": ""
            },
            "colorscale": [
             [
              0,
              "#0d0887"
             ],
             [
              0.1111111111111111,
              "#46039f"
             ],
             [
              0.2222222222222222,
              "#7201a8"
             ],
             [
              0.3333333333333333,
              "#9c179e"
             ],
             [
              0.4444444444444444,
              "#bd3786"
             ],
             [
              0.5555555555555556,
              "#d8576b"
             ],
             [
              0.6666666666666666,
              "#ed7953"
             ],
             [
              0.7777777777777778,
              "#fb9f3a"
             ],
             [
              0.8888888888888888,
              "#fdca26"
             ],
             [
              1,
              "#f0f921"
             ]
            ],
            "type": "surface"
           }
          ],
          "table": [
           {
            "cells": {
             "fill": {
              "color": "#EBF0F8"
             },
             "line": {
              "color": "white"
             }
            },
            "header": {
             "fill": {
              "color": "#C8D4E3"
             },
             "line": {
              "color": "white"
             }
            },
            "type": "table"
           }
          ]
         },
         "layout": {
          "annotationdefaults": {
           "arrowcolor": "#2a3f5f",
           "arrowhead": 0,
           "arrowwidth": 1
          },
          "autotypenumbers": "strict",
          "coloraxis": {
           "colorbar": {
            "outlinewidth": 0,
            "ticks": ""
           }
          },
          "colorscale": {
           "diverging": [
            [
             0,
             "#8e0152"
            ],
            [
             0.1,
             "#c51b7d"
            ],
            [
             0.2,
             "#de77ae"
            ],
            [
             0.3,
             "#f1b6da"
            ],
            [
             0.4,
             "#fde0ef"
            ],
            [
             0.5,
             "#f7f7f7"
            ],
            [
             0.6,
             "#e6f5d0"
            ],
            [
             0.7,
             "#b8e186"
            ],
            [
             0.8,
             "#7fbc41"
            ],
            [
             0.9,
             "#4d9221"
            ],
            [
             1,
             "#276419"
            ]
           ],
           "sequential": [
            [
             0,
             "#0d0887"
            ],
            [
             0.1111111111111111,
             "#46039f"
            ],
            [
             0.2222222222222222,
             "#7201a8"
            ],
            [
             0.3333333333333333,
             "#9c179e"
            ],
            [
             0.4444444444444444,
             "#bd3786"
            ],
            [
             0.5555555555555556,
             "#d8576b"
            ],
            [
             0.6666666666666666,
             "#ed7953"
            ],
            [
             0.7777777777777778,
             "#fb9f3a"
            ],
            [
             0.8888888888888888,
             "#fdca26"
            ],
            [
             1,
             "#f0f921"
            ]
           ],
           "sequentialminus": [
            [
             0,
             "#0d0887"
            ],
            [
             0.1111111111111111,
             "#46039f"
            ],
            [
             0.2222222222222222,
             "#7201a8"
            ],
            [
             0.3333333333333333,
             "#9c179e"
            ],
            [
             0.4444444444444444,
             "#bd3786"
            ],
            [
             0.5555555555555556,
             "#d8576b"
            ],
            [
             0.6666666666666666,
             "#ed7953"
            ],
            [
             0.7777777777777778,
             "#fb9f3a"
            ],
            [
             0.8888888888888888,
             "#fdca26"
            ],
            [
             1,
             "#f0f921"
            ]
           ]
          },
          "colorway": [
           "#636efa",
           "#EF553B",
           "#00cc96",
           "#ab63fa",
           "#FFA15A",
           "#19d3f3",
           "#FF6692",
           "#B6E880",
           "#FF97FF",
           "#FECB52"
          ],
          "font": {
           "color": "#2a3f5f"
          },
          "geo": {
           "bgcolor": "white",
           "lakecolor": "white",
           "landcolor": "#E5ECF6",
           "showlakes": true,
           "showland": true,
           "subunitcolor": "white"
          },
          "hoverlabel": {
           "align": "left"
          },
          "hovermode": "closest",
          "mapbox": {
           "style": "light"
          },
          "paper_bgcolor": "white",
          "plot_bgcolor": "#E5ECF6",
          "polar": {
           "angularaxis": {
            "gridcolor": "white",
            "linecolor": "white",
            "ticks": ""
           },
           "bgcolor": "#E5ECF6",
           "radialaxis": {
            "gridcolor": "white",
            "linecolor": "white",
            "ticks": ""
           }
          },
          "scene": {
           "xaxis": {
            "backgroundcolor": "#E5ECF6",
            "gridcolor": "white",
            "gridwidth": 2,
            "linecolor": "white",
            "showbackground": true,
            "ticks": "",
            "zerolinecolor": "white"
           },
           "yaxis": {
            "backgroundcolor": "#E5ECF6",
            "gridcolor": "white",
            "gridwidth": 2,
            "linecolor": "white",
            "showbackground": true,
            "ticks": "",
            "zerolinecolor": "white"
           },
           "zaxis": {
            "backgroundcolor": "#E5ECF6",
            "gridcolor": "white",
            "gridwidth": 2,
            "linecolor": "white",
            "showbackground": true,
            "ticks": "",
            "zerolinecolor": "white"
           }
          },
          "shapedefaults": {
           "line": {
            "color": "#2a3f5f"
           }
          },
          "ternary": {
           "aaxis": {
            "gridcolor": "white",
            "linecolor": "white",
            "ticks": ""
           },
           "baxis": {
            "gridcolor": "white",
            "linecolor": "white",
            "ticks": ""
           },
           "bgcolor": "#E5ECF6",
           "caxis": {
            "gridcolor": "white",
            "linecolor": "white",
            "ticks": ""
           }
          },
          "title": {
           "x": 0.05
          },
          "xaxis": {
           "automargin": true,
           "gridcolor": "white",
           "linecolor": "white",
           "ticks": "",
           "title": {
            "standoff": 15
           },
           "zerolinecolor": "white",
           "zerolinewidth": 2
          },
          "yaxis": {
           "automargin": true,
           "gridcolor": "white",
           "linecolor": "white",
           "ticks": "",
           "title": {
            "standoff": 15
           },
           "zerolinecolor": "white",
           "zerolinewidth": 2
          }
         }
        },
        "title": {
         "text": "Model Accuracies and ROC AUC scores"
        }
       }
      }
     },
     "metadata": {},
     "output_type": "display_data"
    }
   ],
   "source": [
    "import plotly.graph_objects as px\n",
    "\n",
    "#data = [['Decision Tree', dt_sub_accuracy], ['RandomForest', rf_sub_accuracy],['GridSearch RandomForest', grid_rfc_accuracy], ['Gradient Boosting Classifier', gbc_sub_accuracy] ,\n",
    "        #['GridSeach Gradient Boosting Classifer', grid_gbm_accuracy], ['Ensemble Voting', ensemble_accuracy] ]\n",
    "#df = pd.DataFrame(data, columns=['Model Name', 'Accuracy'])\n",
    "\n",
    "#fig = px.bar(df, x='Model Name', y='Accuracy', title = 'Accuracies of various models predicting sub-species of sloths')\n",
    "#fig.show()\n",
    "\n",
    "\n",
    "x = ['Decision Tree', 'RandomForest', 'GridSearch RandomForest', 'Gradient Boosting Classifier', 'GridSeach Gradient Boosting Classifer']\n",
    " \n",
    "plot = px.Figure(data=[px.Bar(\n",
    "    name = 'Accuracy',\n",
    "    x = x,\n",
    "    y = [dt_sub_accuracy, rf_sub_accuracy, rf_best_sub_accuracy, gbc_sub_accuracy, gbc_best_sub_accuracy]\n",
    "   ),\n",
    "                       px.Bar(\n",
    "    name = 'ROC_AUC',\n",
    "    x = x,\n",
    "    y = [dt_roc_auc, rf_roc_auc, rf_best_roc_auc, gbc_roc_auc, gbc_best_roc_auc]\n",
    "   )\n",
    "],\n",
    "\n",
    "layout=px.Layout(\n",
    "        title=px.layout.Title(text=\"Model Accuracies and ROC AUC scores\")\n",
    "\n",
    ")\n",
    ")\n",
    "\n",
    "plot.show()\n",
    "  "
   ]
  },
  {
   "attachments": {},
   "cell_type": "markdown",
   "metadata": {},
   "source": [
    "Plotting the accuracy and ROC AUC scores for all the models we can see apart from the decision tree base model there isn't a lot to choose from between the more complex models (I'd recommend zooming in on the axes so the lowest value in the y-axis is 0.9). Therefore, different metrics need to be considered in order to evaluate model. Originally I had planned to use the \"macro avg f1 score\" which would take into account the imbalanced nature of the dataset and provide insight into both the model performance with respect to recall and precision. However, all the \"macro avg f1 score\" results were very similar for the more complex models. Therefore, in order to to choose the optimal model, I examined the F1 score for the Pygmy three toed sloth (worst performing classification), where the largest differences between models was found. "
   ]
  },
  {
   "attachments": {},
   "cell_type": "markdown",
   "metadata": {},
   "source": [
    "Plot the f1 scores for the three-toed pygmy sloth"
   ]
  },
  {
   "cell_type": "code",
   "execution_count": 168,
   "metadata": {},
   "outputs": [
    {
     "data": {
      "application/vnd.plotly.v1+json": {
       "config": {
        "plotlyServerURL": "https://plot.ly"
       },
       "data": [
        {
         "alignmentgroup": "True",
         "hovertemplate": "Model Name=%{x}<br>F1-score=%{y}<extra></extra>",
         "legendgroup": "",
         "marker": {
          "color": "#636efa",
          "pattern": {
           "shape": ""
          }
         },
         "name": "",
         "offsetgroup": "",
         "orientation": "v",
         "showlegend": false,
         "textposition": "auto",
         "type": "bar",
         "x": [
          "Decision Tree",
          "RandomForest",
          "GridSearch RandomForest",
          "Gradient Boosting Classifier",
          "GridSearch Gradient Boosting Classifer"
         ],
         "xaxis": "x",
         "y": [
          0.45161290322580644,
          0.4827586206896552,
          0.5714285714285714,
          0.5333333333333333,
          0.5454545454545454
         ],
         "yaxis": "y"
        }
       ],
       "layout": {
        "barmode": "relative",
        "legend": {
         "tracegroupgap": 0
        },
        "template": {
         "data": {
          "bar": [
           {
            "error_x": {
             "color": "#2a3f5f"
            },
            "error_y": {
             "color": "#2a3f5f"
            },
            "marker": {
             "line": {
              "color": "#E5ECF6",
              "width": 0.5
             },
             "pattern": {
              "fillmode": "overlay",
              "size": 10,
              "solidity": 0.2
             }
            },
            "type": "bar"
           }
          ],
          "barpolar": [
           {
            "marker": {
             "line": {
              "color": "#E5ECF6",
              "width": 0.5
             },
             "pattern": {
              "fillmode": "overlay",
              "size": 10,
              "solidity": 0.2
             }
            },
            "type": "barpolar"
           }
          ],
          "carpet": [
           {
            "aaxis": {
             "endlinecolor": "#2a3f5f",
             "gridcolor": "white",
             "linecolor": "white",
             "minorgridcolor": "white",
             "startlinecolor": "#2a3f5f"
            },
            "baxis": {
             "endlinecolor": "#2a3f5f",
             "gridcolor": "white",
             "linecolor": "white",
             "minorgridcolor": "white",
             "startlinecolor": "#2a3f5f"
            },
            "type": "carpet"
           }
          ],
          "choropleth": [
           {
            "colorbar": {
             "outlinewidth": 0,
             "ticks": ""
            },
            "type": "choropleth"
           }
          ],
          "contour": [
           {
            "colorbar": {
             "outlinewidth": 0,
             "ticks": ""
            },
            "colorscale": [
             [
              0,
              "#0d0887"
             ],
             [
              0.1111111111111111,
              "#46039f"
             ],
             [
              0.2222222222222222,
              "#7201a8"
             ],
             [
              0.3333333333333333,
              "#9c179e"
             ],
             [
              0.4444444444444444,
              "#bd3786"
             ],
             [
              0.5555555555555556,
              "#d8576b"
             ],
             [
              0.6666666666666666,
              "#ed7953"
             ],
             [
              0.7777777777777778,
              "#fb9f3a"
             ],
             [
              0.8888888888888888,
              "#fdca26"
             ],
             [
              1,
              "#f0f921"
             ]
            ],
            "type": "contour"
           }
          ],
          "contourcarpet": [
           {
            "colorbar": {
             "outlinewidth": 0,
             "ticks": ""
            },
            "type": "contourcarpet"
           }
          ],
          "heatmap": [
           {
            "colorbar": {
             "outlinewidth": 0,
             "ticks": ""
            },
            "colorscale": [
             [
              0,
              "#0d0887"
             ],
             [
              0.1111111111111111,
              "#46039f"
             ],
             [
              0.2222222222222222,
              "#7201a8"
             ],
             [
              0.3333333333333333,
              "#9c179e"
             ],
             [
              0.4444444444444444,
              "#bd3786"
             ],
             [
              0.5555555555555556,
              "#d8576b"
             ],
             [
              0.6666666666666666,
              "#ed7953"
             ],
             [
              0.7777777777777778,
              "#fb9f3a"
             ],
             [
              0.8888888888888888,
              "#fdca26"
             ],
             [
              1,
              "#f0f921"
             ]
            ],
            "type": "heatmap"
           }
          ],
          "heatmapgl": [
           {
            "colorbar": {
             "outlinewidth": 0,
             "ticks": ""
            },
            "colorscale": [
             [
              0,
              "#0d0887"
             ],
             [
              0.1111111111111111,
              "#46039f"
             ],
             [
              0.2222222222222222,
              "#7201a8"
             ],
             [
              0.3333333333333333,
              "#9c179e"
             ],
             [
              0.4444444444444444,
              "#bd3786"
             ],
             [
              0.5555555555555556,
              "#d8576b"
             ],
             [
              0.6666666666666666,
              "#ed7953"
             ],
             [
              0.7777777777777778,
              "#fb9f3a"
             ],
             [
              0.8888888888888888,
              "#fdca26"
             ],
             [
              1,
              "#f0f921"
             ]
            ],
            "type": "heatmapgl"
           }
          ],
          "histogram": [
           {
            "marker": {
             "pattern": {
              "fillmode": "overlay",
              "size": 10,
              "solidity": 0.2
             }
            },
            "type": "histogram"
           }
          ],
          "histogram2d": [
           {
            "colorbar": {
             "outlinewidth": 0,
             "ticks": ""
            },
            "colorscale": [
             [
              0,
              "#0d0887"
             ],
             [
              0.1111111111111111,
              "#46039f"
             ],
             [
              0.2222222222222222,
              "#7201a8"
             ],
             [
              0.3333333333333333,
              "#9c179e"
             ],
             [
              0.4444444444444444,
              "#bd3786"
             ],
             [
              0.5555555555555556,
              "#d8576b"
             ],
             [
              0.6666666666666666,
              "#ed7953"
             ],
             [
              0.7777777777777778,
              "#fb9f3a"
             ],
             [
              0.8888888888888888,
              "#fdca26"
             ],
             [
              1,
              "#f0f921"
             ]
            ],
            "type": "histogram2d"
           }
          ],
          "histogram2dcontour": [
           {
            "colorbar": {
             "outlinewidth": 0,
             "ticks": ""
            },
            "colorscale": [
             [
              0,
              "#0d0887"
             ],
             [
              0.1111111111111111,
              "#46039f"
             ],
             [
              0.2222222222222222,
              "#7201a8"
             ],
             [
              0.3333333333333333,
              "#9c179e"
             ],
             [
              0.4444444444444444,
              "#bd3786"
             ],
             [
              0.5555555555555556,
              "#d8576b"
             ],
             [
              0.6666666666666666,
              "#ed7953"
             ],
             [
              0.7777777777777778,
              "#fb9f3a"
             ],
             [
              0.8888888888888888,
              "#fdca26"
             ],
             [
              1,
              "#f0f921"
             ]
            ],
            "type": "histogram2dcontour"
           }
          ],
          "mesh3d": [
           {
            "colorbar": {
             "outlinewidth": 0,
             "ticks": ""
            },
            "type": "mesh3d"
           }
          ],
          "parcoords": [
           {
            "line": {
             "colorbar": {
              "outlinewidth": 0,
              "ticks": ""
             }
            },
            "type": "parcoords"
           }
          ],
          "pie": [
           {
            "automargin": true,
            "type": "pie"
           }
          ],
          "scatter": [
           {
            "fillpattern": {
             "fillmode": "overlay",
             "size": 10,
             "solidity": 0.2
            },
            "type": "scatter"
           }
          ],
          "scatter3d": [
           {
            "line": {
             "colorbar": {
              "outlinewidth": 0,
              "ticks": ""
             }
            },
            "marker": {
             "colorbar": {
              "outlinewidth": 0,
              "ticks": ""
             }
            },
            "type": "scatter3d"
           }
          ],
          "scattercarpet": [
           {
            "marker": {
             "colorbar": {
              "outlinewidth": 0,
              "ticks": ""
             }
            },
            "type": "scattercarpet"
           }
          ],
          "scattergeo": [
           {
            "marker": {
             "colorbar": {
              "outlinewidth": 0,
              "ticks": ""
             }
            },
            "type": "scattergeo"
           }
          ],
          "scattergl": [
           {
            "marker": {
             "colorbar": {
              "outlinewidth": 0,
              "ticks": ""
             }
            },
            "type": "scattergl"
           }
          ],
          "scattermapbox": [
           {
            "marker": {
             "colorbar": {
              "outlinewidth": 0,
              "ticks": ""
             }
            },
            "type": "scattermapbox"
           }
          ],
          "scatterpolar": [
           {
            "marker": {
             "colorbar": {
              "outlinewidth": 0,
              "ticks": ""
             }
            },
            "type": "scatterpolar"
           }
          ],
          "scatterpolargl": [
           {
            "marker": {
             "colorbar": {
              "outlinewidth": 0,
              "ticks": ""
             }
            },
            "type": "scatterpolargl"
           }
          ],
          "scatterternary": [
           {
            "marker": {
             "colorbar": {
              "outlinewidth": 0,
              "ticks": ""
             }
            },
            "type": "scatterternary"
           }
          ],
          "surface": [
           {
            "colorbar": {
             "outlinewidth": 0,
             "ticks": ""
            },
            "colorscale": [
             [
              0,
              "#0d0887"
             ],
             [
              0.1111111111111111,
              "#46039f"
             ],
             [
              0.2222222222222222,
              "#7201a8"
             ],
             [
              0.3333333333333333,
              "#9c179e"
             ],
             [
              0.4444444444444444,
              "#bd3786"
             ],
             [
              0.5555555555555556,
              "#d8576b"
             ],
             [
              0.6666666666666666,
              "#ed7953"
             ],
             [
              0.7777777777777778,
              "#fb9f3a"
             ],
             [
              0.8888888888888888,
              "#fdca26"
             ],
             [
              1,
              "#f0f921"
             ]
            ],
            "type": "surface"
           }
          ],
          "table": [
           {
            "cells": {
             "fill": {
              "color": "#EBF0F8"
             },
             "line": {
              "color": "white"
             }
            },
            "header": {
             "fill": {
              "color": "#C8D4E3"
             },
             "line": {
              "color": "white"
             }
            },
            "type": "table"
           }
          ]
         },
         "layout": {
          "annotationdefaults": {
           "arrowcolor": "#2a3f5f",
           "arrowhead": 0,
           "arrowwidth": 1
          },
          "autotypenumbers": "strict",
          "coloraxis": {
           "colorbar": {
            "outlinewidth": 0,
            "ticks": ""
           }
          },
          "colorscale": {
           "diverging": [
            [
             0,
             "#8e0152"
            ],
            [
             0.1,
             "#c51b7d"
            ],
            [
             0.2,
             "#de77ae"
            ],
            [
             0.3,
             "#f1b6da"
            ],
            [
             0.4,
             "#fde0ef"
            ],
            [
             0.5,
             "#f7f7f7"
            ],
            [
             0.6,
             "#e6f5d0"
            ],
            [
             0.7,
             "#b8e186"
            ],
            [
             0.8,
             "#7fbc41"
            ],
            [
             0.9,
             "#4d9221"
            ],
            [
             1,
             "#276419"
            ]
           ],
           "sequential": [
            [
             0,
             "#0d0887"
            ],
            [
             0.1111111111111111,
             "#46039f"
            ],
            [
             0.2222222222222222,
             "#7201a8"
            ],
            [
             0.3333333333333333,
             "#9c179e"
            ],
            [
             0.4444444444444444,
             "#bd3786"
            ],
            [
             0.5555555555555556,
             "#d8576b"
            ],
            [
             0.6666666666666666,
             "#ed7953"
            ],
            [
             0.7777777777777778,
             "#fb9f3a"
            ],
            [
             0.8888888888888888,
             "#fdca26"
            ],
            [
             1,
             "#f0f921"
            ]
           ],
           "sequentialminus": [
            [
             0,
             "#0d0887"
            ],
            [
             0.1111111111111111,
             "#46039f"
            ],
            [
             0.2222222222222222,
             "#7201a8"
            ],
            [
             0.3333333333333333,
             "#9c179e"
            ],
            [
             0.4444444444444444,
             "#bd3786"
            ],
            [
             0.5555555555555556,
             "#d8576b"
            ],
            [
             0.6666666666666666,
             "#ed7953"
            ],
            [
             0.7777777777777778,
             "#fb9f3a"
            ],
            [
             0.8888888888888888,
             "#fdca26"
            ],
            [
             1,
             "#f0f921"
            ]
           ]
          },
          "colorway": [
           "#636efa",
           "#EF553B",
           "#00cc96",
           "#ab63fa",
           "#FFA15A",
           "#19d3f3",
           "#FF6692",
           "#B6E880",
           "#FF97FF",
           "#FECB52"
          ],
          "font": {
           "color": "#2a3f5f"
          },
          "geo": {
           "bgcolor": "white",
           "lakecolor": "white",
           "landcolor": "#E5ECF6",
           "showlakes": true,
           "showland": true,
           "subunitcolor": "white"
          },
          "hoverlabel": {
           "align": "left"
          },
          "hovermode": "closest",
          "mapbox": {
           "style": "light"
          },
          "paper_bgcolor": "white",
          "plot_bgcolor": "#E5ECF6",
          "polar": {
           "angularaxis": {
            "gridcolor": "white",
            "linecolor": "white",
            "ticks": ""
           },
           "bgcolor": "#E5ECF6",
           "radialaxis": {
            "gridcolor": "white",
            "linecolor": "white",
            "ticks": ""
           }
          },
          "scene": {
           "xaxis": {
            "backgroundcolor": "#E5ECF6",
            "gridcolor": "white",
            "gridwidth": 2,
            "linecolor": "white",
            "showbackground": true,
            "ticks": "",
            "zerolinecolor": "white"
           },
           "yaxis": {
            "backgroundcolor": "#E5ECF6",
            "gridcolor": "white",
            "gridwidth": 2,
            "linecolor": "white",
            "showbackground": true,
            "ticks": "",
            "zerolinecolor": "white"
           },
           "zaxis": {
            "backgroundcolor": "#E5ECF6",
            "gridcolor": "white",
            "gridwidth": 2,
            "linecolor": "white",
            "showbackground": true,
            "ticks": "",
            "zerolinecolor": "white"
           }
          },
          "shapedefaults": {
           "line": {
            "color": "#2a3f5f"
           }
          },
          "ternary": {
           "aaxis": {
            "gridcolor": "white",
            "linecolor": "white",
            "ticks": ""
           },
           "baxis": {
            "gridcolor": "white",
            "linecolor": "white",
            "ticks": ""
           },
           "bgcolor": "#E5ECF6",
           "caxis": {
            "gridcolor": "white",
            "linecolor": "white",
            "ticks": ""
           }
          },
          "title": {
           "x": 0.05
          },
          "xaxis": {
           "automargin": true,
           "gridcolor": "white",
           "linecolor": "white",
           "ticks": "",
           "title": {
            "standoff": 15
           },
           "zerolinecolor": "white",
           "zerolinewidth": 2
          },
          "yaxis": {
           "automargin": true,
           "gridcolor": "white",
           "linecolor": "white",
           "ticks": "",
           "title": {
            "standoff": 15
           },
           "zerolinecolor": "white",
           "zerolinewidth": 2
          }
         }
        },
        "title": {
         "text": "F1-score of Pygmy Three-Toed classification models"
        },
        "xaxis": {
         "anchor": "y",
         "domain": [
          0,
          1
         ],
         "title": {
          "text": "Model Name"
         }
        },
        "yaxis": {
         "anchor": "x",
         "domain": [
          0,
          1
         ],
         "title": {
          "text": "F1-score"
         }
        }
       }
      }
     },
     "metadata": {},
     "output_type": "display_data"
    }
   ],
   "source": [
    "import plotly.express as px\n",
    "\n",
    "data = [['Decision Tree', dt_lowest_f1], ['RandomForest', rf_lowest_f1],['GridSearch RandomForest', rf_best_lowest_f1], ['Gradient Boosting Classifier', gbc_lowest_f1] ,\n",
    "        ['GridSearch Gradient Boosting Classifer', gbc_best_lowest_f1]]\n",
    "df = pd.DataFrame(data, columns=['Model Name', 'F1-score'])\n",
    "\n",
    "fig = px.bar(df, x='Model Name', y='F1-score', title = 'F1-score of Pygmy Three-Toed classification models')\n",
    "fig.show()"
   ]
  },
  {
   "attachments": {},
   "cell_type": "markdown",
   "metadata": {},
   "source": [
    "Once again, the models perform similarily, however the hyper-parameter tuned models (GridSearch RandomForest, and GridSearch Gradient Boosting Classifier), did have better f1-scores for the pygmy three-toed sloth class. Therefore, the best performing model, having the best ROC AUC score and the highest f1-score for the pygmy three-toed sloth, is the tuned gradient boosting classifier. "
   ]
  },
  {
   "attachments": {},
   "cell_type": "markdown",
   "metadata": {},
   "source": [
    "Final thoughts\n",
    "\n",
    "Using machine learning is very effective at classifying sloth species based on physical characteristics, which was demonstrated in the first section of this notebook. At first glance, it also appears to be very effective at classifying sloth sub species based on physical characteristics. However, upon closer inspection, the pygmy three-toed sloth turned out to be difficult to classify. The reason for this was two fold. Firstly, there were far fewer data points present in the dataset for this class, making the dataset very imbalanced. Next, the physical characteristics of this sub-species had a lot of overlap with the pale-throated sloth. So the question then became, 'is it a big pygmy three-toed sloth or just a small pale throated sloth?'. The sub-species' isolation on an island purports the idea that this is an example of 'island dwarfism' and gives credence to the idea that it is indeed a new species. This is a phenomenon where limited resources on an island push the evolution of smaller individuals within a species. So, in an attempt to improve the models, hyper-parameter turning and focusing the scoring on ROC AUC and using stratifiedkfolds in cross-validation did result in better results. Even still, the highest f1-score that was achieved was 0.58 using the tuned gradient boosting classifier. \n",
    "\n",
    "While this likely isn't the proper forum to discuss this, it does bring up a larger question of taxonomy in general. At what point is something considered to be a new sub-species, or just a population exhibiting some regional characteristics? Human characteristics vary across the globe in many aspects. Using height as an example, the tallest human population (Netherlands) are on average 1 ft taller than the shortest (Timor-Leste). In this case we don't designate the two as different sub-species. Perhaps machine learning can lend a more concrete/focused approach to sub-species differentiation."
   ]
  }
 ],
 "metadata": {
  "kernelspec": {
   "display_name": "base",
   "language": "python",
   "name": "python3"
  },
  "language_info": {
   "codemirror_mode": {
    "name": "ipython",
    "version": 3
   },
   "file_extension": ".py",
   "mimetype": "text/x-python",
   "name": "python",
   "nbconvert_exporter": "python",
   "pygments_lexer": "ipython3",
   "version": "3.9.13"
  },
  "orig_nbformat": 4,
  "vscode": {
   "interpreter": {
    "hash": "5689a4b19b6191296f14ffed21a1fb31653c833efa0ce3e22a820241e029b75a"
   }
  }
 },
 "nbformat": 4,
 "nbformat_minor": 2
}
